{
 "cells": [
  {
   "cell_type": "markdown",
   "metadata": {},
   "source": [
    "# Programming for Data Analysis Assignment\n",
    "A discussion of the numpy.random package"
   ]
  },
  {
   "cell_type": "markdown",
   "metadata": {},
   "source": [
    "## Python Modules and Packages\n",
    "Before discussing the specific numpy.random package, it is necessary to understand what is a Python package. \n",
    "\n",
    "### Python modules\n",
    "Python allows for [modular programming][1], whereby large program tasks consisting of thousands of lines of code are broken into smaller manageable *modules* of code to allow for easier programming. These modules usually contain code that is [logically similar to each other][2]. Thus, modules are in essence merely files containing Python definitions (coding scripts) with a `.py` suffix [(Python documentation)][3]. The use of modules in this way has [several benefits][4]:\n",
    "* Easier to debug segments of code rather than long scripts\n",
    "* Shorter code segments increases readability and reliability\n",
    "* Allows for the reuse of code segments, speeding up programming\n",
    "\n",
    "[1]: https://realpython.com/python-modules-packages/\n",
    "[2]: https://www.quora.com/What-is-the-difference-between-a-python-module-package-And-when-to-use-which-one\n",
    "[3]: https://docs.python.org/3.7/tutorial/modules.html\n",
    "[4]: https://www.techwalla.com/articles/the-advantages-of-modularization-in-programming"
   ]
  },
  {
   "cell_type": "markdown",
   "metadata": {},
   "source": [
    "### Python packages\n",
    "As the number of modules for a particular script increase, it becomes unwieldy to manage, and can lead to [collisions between module names][1]. This can cause issues with program execution. It is for this reason that Python allows the grouping of modules of similar content and purpose into a hierarchical structure, called [*packages*][2]. A package can then be considered as a collection of modules. ![pkg][3]Unlike modules, however, a package does not take a `.py` suffix, and needs to include an `__init__.py` file to differentiate it from an otherwise normal [hierarchical directory of files][4]. \n",
    "\n",
    "[1]: https://realpython.com/python-modules-packages/\n",
    "[2]: https://docs.python.org/3.7/tutorial/modules.html\n",
    "[3]: https://files.realpython.com/media/pkg1.9af1c7aea48f.png\n",
    "[4]: https://stackoverflow.com/a/7948672"
   ]
  },
  {
   "cell_type": "markdown",
   "metadata": {},
   "source": [
    "## numpy.random package\n",
    "[NumPy][1] is a scientific package for numerical computing in Python; that is, it contains modules that allow for powerful and rapid advanced scientific computing on data. It works with multidimensional homogenous arrays, of array class [`ndarray`][2]. One of the modules contained in the NumPy package is the [`random`][2] module. This module contains several methods that allow the generation of random numbers of type float and interger according to various parameters and sampling distributions. \n",
    "\n",
    "### Importing numpy.random\n",
    "In order to use the methods within the `random` module, it is necessary to first import the NumPy package and its modules. There are a [few ways][4] of doing this.\n",
    "\n",
    "Firstly, one can import the whole NumPy package and then call the `random` module and its methods at each use. Convention is to use the abbreviation `np` when importing NumPy:\n",
    "\n",
    "[1]: https://numpy.org/\n",
    "[2]: https://numpy.org/devdocs/user/quickstart.html#the-basics\n",
    "[3]: https://docs.scipy.org/doc/numpy-1.15.0/reference/routines.random.html\n",
    "[4]: https://docs.python.org/3.7/tutorial/modules.html"
   ]
  },
  {
   "cell_type": "code",
   "execution_count": 1,
   "metadata": {},
   "outputs": [],
   "source": [
    "# Import numpy package\n",
    "import numpy as np"
   ]
  },
  {
   "cell_type": "markdown",
   "metadata": {},
   "source": [
    "Now, when wanting to use the `random` module, one needs to call it each time with the `np` prefix."
   ]
  },
  {
   "cell_type": "code",
   "execution_count": 2,
   "metadata": {},
   "outputs": [
    {
     "data": {
      "text/plain": [
       "array([0.23980348, 0.85274951, 0.63619416])"
      ]
     },
     "execution_count": 2,
     "metadata": {},
     "output_type": "execute_result"
    }
   ],
   "source": [
    "# Generate a 1d-array of 3 random numbers from a uniform distribution\n",
    "np.random.rand(3)"
   ]
  },
  {
   "cell_type": "code",
   "execution_count": 3,
   "metadata": {},
   "outputs": [
    {
     "data": {
      "text/plain": [
       "19"
      ]
     },
     "execution_count": 3,
     "metadata": {},
     "output_type": "execute_result"
    }
   ],
   "source": [
    "# Generate a random integer from zero and up to but excluding 30, from a uniform distribution \n",
    "np.random.randint(30)"
   ]
  },
  {
   "cell_type": "markdown",
   "metadata": {},
   "source": [
    "If one is only going to be using the `random` module, one can import this module and its submodules only."
   ]
  },
  {
   "cell_type": "code",
   "execution_count": 4,
   "metadata": {},
   "outputs": [],
   "source": [
    "# Import numpy.random module\n",
    "from numpy import random"
   ]
  },
  {
   "cell_type": "markdown",
   "metadata": {},
   "source": [
    "Importing the module in this way loads all submodules without the need to include the package prefix when coding."
   ]
  },
  {
   "cell_type": "code",
   "execution_count": 5,
   "metadata": {},
   "outputs": [
    {
     "data": {
      "text/plain": [
       "array([0.12671735, 0.71507689, 0.23078001])"
      ]
     },
     "execution_count": 5,
     "metadata": {},
     "output_type": "execute_result"
    }
   ],
   "source": [
    "# Generate a 1d-array of 3 random numbers from a uniform distribution\n",
    "random.rand(3)"
   ]
  },
  {
   "cell_type": "code",
   "execution_count": 6,
   "metadata": {},
   "outputs": [
    {
     "data": {
      "text/plain": [
       "28"
      ]
     },
     "execution_count": 6,
     "metadata": {},
     "output_type": "execute_result"
    }
   ],
   "source": [
    "# Generate a random integer from zero and up to but excluding 30, from a uniform distribution \n",
    "random.randint(30)"
   ]
  },
  {
   "cell_type": "markdown",
   "metadata": {},
   "source": [
    "However, given the extent of modules contained in the NumPy package, and the packages utility in dealing with numerical data, it is more usual to import the whole package as `np`."
   ]
  },
  {
   "cell_type": "markdown",
   "metadata": {},
   "source": [
    "### A word on uniform and normal distributions\n",
    "Before investigating the simple random functions, it is necessary to describe two types of probability distributions: uniform and normal (or Gaussian). The random values created by the `numpy.random` functions discussed below are generated from either of these distributions; understanding how these affect the probability of a number arising in the array is important when using the `numpy.random` function for data analysis purposes\n",
    "\n",
    "#### Uniform distribution\n",
    "In the [uniform distribution][1], each value has an equal probability of being chosen, e.g. with each flip of a coin, there is an equal probability for heads or tails. This can be represented as a straight line, and is sometimes also referred to as a [rectangular distribution][2], as shown in the following diagram: \n",
    "\n",
    "[1]: https://www.investopedia.com/terms/u/uniform-distribution.asp\n",
    "[2]: http://mathworld.wolfram.com/UniformDistribution.html"
   ]
  },
  {
   "cell_type": "code",
   "execution_count": 7,
   "metadata": {},
   "outputs": [],
   "source": [
    "# Import matplotlib package\n",
    "import matplotlib.pyplot as plt"
   ]
  },
  {
   "cell_type": "code",
   "execution_count": 8,
   "metadata": {},
   "outputs": [],
   "source": [
    "# Generate 10,000 random numbers from a uniform distribution\n",
    "x = np.random.rand(10000)"
   ]
  },
  {
   "cell_type": "code",
   "execution_count": 9,
   "metadata": {},
   "outputs": [
    {
     "data": {
      "text/plain": [
       "(array([ 986.,  993.,  988., 1029., 1000., 1007.,  999., 1011., 1031.,\n",
       "         956.]),\n",
       " array([1.54135357e-05, 1.00004260e-01, 1.99993106e-01, 2.99981953e-01,\n",
       "        3.99970799e-01, 4.99959646e-01, 5.99948492e-01, 6.99937339e-01,\n",
       "        7.99926185e-01, 8.99915032e-01, 9.99903878e-01]),\n",
       " <a list of 10 Patch objects>)"
      ]
     },
     "execution_count": 9,
     "metadata": {},
     "output_type": "execute_result"
    },
    {
     "data": {
      "image/png": "[encoded data removed]",
      "text/plain": [
       "<Figure size 432x288 with 1 Axes>"
      ]
     },
     "metadata": {
      "needs_background": "light"
     },
     "output_type": "display_data"
    }
   ],
   "source": [
    "# Plot these numbers on a histogram\n",
    "plt.hist(x)"
   ]
  },
  {
   "cell_type": "markdown",
   "metadata": {},
   "source": [
    "One can see that numbers between 0.0 and 0.2 have a roughly equal chance of arising as numbers between 0.8 and 1.0"
   ]
  },
  {
   "cell_type": "markdown",
   "metadata": {},
   "source": [
    "#### Normal distribution\n",
    "In contrast to the uniform distribution above, values drawn from a normal distribution do not have equal probability of arising. [Normal (or Gaussian) probability distribution][1] is symmetric about a mean, and tapers off towards the ends, giving the shape of a bell; indeed, it is sometimes also referred to as the ['bell curve'][2]. This type of distribution arises in many situations, particularly as it relates to population characteristics, such as height, weight, BMI, etc. Because of the bell curved shape of this distribution, values near the mean (centre) have a greater probability of arising than values near the edges. The fundamental shape of a normal distribution allows a rule of thumb that ~68% of values will occur within ±1 standard deviations (SD) of the mean, and ~95% within ±2 SD. An example of a normal distribution is presented below:\n",
    "\n",
    "[1]: https://www.investopedia.com/terms/n/normaldistribution.asp\n",
    "[2]: https://www.statisticshowto.datasciencecentral.com/probability-and-statistics/normal-distributions/\n"
   ]
  },
  {
   "cell_type": "code",
   "execution_count": 10,
   "metadata": {},
   "outputs": [],
   "source": [
    "# Import seaborn package\n",
    "import seaborn as sns"
   ]
  },
  {
   "cell_type": "code",
   "execution_count": 11,
   "metadata": {},
   "outputs": [],
   "source": [
    "# Generate 10,000 random valuese from a normal distribution\n",
    "y = np.random.randn(10000)"
   ]
  },
  {
   "cell_type": "code",
   "execution_count": 12,
   "metadata": {},
   "outputs": [
    {
     "name": "stderr",
     "output_type": "stream",
     "text": [
      "/anaconda3/lib/python3.7/site-packages/scipy/stats/stats.py:1713: FutureWarning: Using a non-tuple sequence for multidimensional indexing is deprecated; use `arr[tuple(seq)]` instead of `arr[seq]`. In the future this will be interpreted as an array index, `arr[np.array(seq)]`, which will result either in an error or a different result.\n",
      "  return np.add.reduce(sorted[indexer] * weights, axis=axis) / sumval\n"
     ]
    },
    {
     "data": {
      "text/plain": [
       "<matplotlib.axes._subplots.AxesSubplot at 0x1a1e46f4e0>"
      ]
     },
     "execution_count": 12,
     "metadata": {},
     "output_type": "execute_result"
    },
    {
     "data": {
      "image/png": "[encoded data removed]",
      "text/plain": [
       "<Figure size 432x288 with 1 Axes>"
      ]
     },
     "metadata": {
      "needs_background": "light"
     },
     "output_type": "display_data"
    }
   ],
   "source": [
    "# Plot histogram of values in bins of 50 with kernel density estimate included\n",
    "sns.distplot(y, bins=50)"
   ]
  },
  {
   "cell_type": "markdown",
   "metadata": {},
   "source": [
    "The application of the KDE emphasises the bell shape that gives this distribution its name. From this, one can see that values greater than 2 SD from the mean (zero) have a far smaller probability of being chosen than values within 2 SD from the mean."
   ]
  },
  {
   "cell_type": "markdown",
   "metadata": {},
   "source": [
    "Understanding the differences between these two probability distributions is important when working with the `numpy.random` package, as the various modules draw values from different distributions. "
   ]
  },
  {
   "cell_type": "markdown",
   "metadata": {},
   "source": [
    "### Simple random data functions\n",
    "There are [10 functions][1] contained within this module; however, some of these are deprecated and superceded by others (e.g. [random_integers][2]). The main purpose of this group of functions is to generate random values of type integer and float, and present them in a pre-specified array arrangement. Although these numbers may be considered random, in NumPy they are actually [pseudo-random][3]; a [pre-determined algorithm][4] produces a sequence of numbers that appear random, usually based on some mathematical formulae or table of numbers. True random number generators rely on random events (e.g. lightning strike) to determine random numbers; this makes them rather ineffecient for most data analysis tasks.\n",
    "\n",
    "[1]: https://docs.scipy.org/doc/numpy-1.15.0/reference/routines.random.html#simple-random-data\n",
    "[2]: https://docs.scipy.org/doc/numpy-1.15.0/reference/generated/numpy.random.random_integers.html#numpy.random.random_integers\n",
    "[3]: https://docs.scipy.org/doc/numpy/reference/random/index.html\n",
    "[4]: https://www.random.org/randomness/\n"
   ]
  },
  {
   "cell_type": "markdown",
   "metadata": {},
   "source": [
    "#### `rand` function\n",
    "\n",
    "This function returns an `ndarray` of float numbers in a given shape between zero and up to, but not including, one. Numbers are drawn from a **uniform** distribution"
   ]
  },
  {
   "cell_type": "code",
   "execution_count": 13,
   "metadata": {},
   "outputs": [
    {
     "data": {
      "text/plain": [
       "array([[0.82318302, 0.71464055, 0.59953579],\n",
       "       [0.86727119, 0.66409812, 0.70036232],\n",
       "       [0.14695083, 0.89013948, 0.41661554],\n",
       "       [0.1589944 , 0.04659914, 0.15599147]])"
      ]
     },
     "execution_count": 13,
     "metadata": {},
     "output_type": "execute_result"
    }
   ],
   "source": [
    "# Generate a 2-d array of 4 rows, 3 columns of random float values between zero and one\n",
    "np.random.rand(4,3) # uniform distribution"
   ]
  },
  {
   "cell_type": "markdown",
   "metadata": {},
   "source": [
    "#### `randn` function\n",
    "Similar to the `rand` function, this returns an `ndarray` of float numbers in a given shape. However, the `randn` function draws these numbers from a **normal** distribution with a mean of zero. For this reason, negative values can occur."
   ]
  },
  {
   "cell_type": "code",
   "execution_count": 14,
   "metadata": {},
   "outputs": [
    {
     "data": {
      "text/plain": [
       "array([[-0.76850274, -0.00403156,  0.88199446],\n",
       "       [ 0.28291637, -0.22645093, -0.18386773],\n",
       "       [ 0.04043049,  0.68427854,  1.03652996],\n",
       "       [-0.34729656, -0.94708073,  0.04742915]])"
      ]
     },
     "execution_count": 14,
     "metadata": {},
     "output_type": "execute_result"
    }
   ],
   "source": [
    "# Generate a 2-d array of 4 rows, 3 columns of random float values\n",
    "np.random.randn(4,3) # normal distribution"
   ]
  },
  {
   "cell_type": "markdown",
   "metadata": {},
   "source": [
    "#### `randint` function\n",
    "This function returns a random integer from a **uniform** distribution up between two numbers (from the lowest up to, but excluding, the highest) and presents it in the shape dictated by the input."
   ]
  },
  {
   "cell_type": "code",
   "execution_count": 16,
   "metadata": {},
   "outputs": [
    {
     "data": {
      "text/plain": [
       "array([[7, 3, 5],\n",
       "       [9, 5, 7]])"
      ]
     },
     "execution_count": 16,
     "metadata": {},
     "output_type": "execute_result"
    }
   ],
   "source": [
    "# Generate a 2-d array of 2 rows, 3 columns of random integers between 2 and 10 (excluding)\n",
    "np.random.randint(2,10, size=(2,3))"
   ]
  },
  {
   "cell_type": "markdown",
   "metadata": {},
   "source": [
    "#### `random_integers` function\n",
    "This function is deprecated and replaced by the `randint` function above\n"
   ]
  },
  {
   "cell_type": "markdown",
   "metadata": {},
   "source": [
    "#### `random_sample` function\n",
    "Returns a random sample of floats between zero and one, not including one, from a **uniform** distribution."
   ]
  },
  {
   "cell_type": "code",
   "execution_count": 19,
   "metadata": {},
   "outputs": [
    {
     "data": {
      "text/plain": [
       "array([[0.56342367, 0.83011957, 0.224567  , 0.90875486],\n",
       "       [0.33846919, 0.89904601, 0.47964251, 0.11069931],\n",
       "       [0.62545309, 0.19128389, 0.78963551, 0.24892882]])"
      ]
     },
     "execution_count": 19,
     "metadata": {},
     "output_type": "execute_result"
    }
   ],
   "source": [
    "# Generate a 2-d array of 3 rows, 4 columns of random floats between zero and one (excluding)\n",
    "np.random.random_sample((3,4))"
   ]
  },
  {
   "cell_type": "markdown",
   "metadata": {},
   "source": [
    "#### `random`, `ranf` and `sample` functions\n",
    "These 3 functions are merely aliases for the `random_sample` function and [return the same object][1].\n",
    "\n",
    "[1]: https://stackoverflow.com/a/18829377"
   ]
  },
  {
   "cell_type": "markdown",
   "metadata": {},
   "source": [
    "#### `choice` function\n",
    "Returns a random sample from a *given* 1-d array. This is useful when one wishes to draw a random sample from a given data set to possibly test a machine learning algorithm, as in the following example:"
   ]
  },
  {
   "cell_type": "code",
   "execution_count": 40,
   "metadata": {},
   "outputs": [
    {
     "data": {
      "text/plain": [
       "array([8, 8, 7, 6, 6])"
      ]
     },
     "execution_count": 40,
     "metadata": {},
     "output_type": "execute_result"
    }
   ],
   "source": [
    "# Generate a 1d array of 5 random integers from zero up to, but not including, 10\n",
    "a = np.random.randint(10, size=5)\n",
    "a"
   ]
  },
  {
   "cell_type": "code",
   "execution_count": 41,
   "metadata": {},
   "outputs": [
    {
     "data": {
      "text/plain": [
       "array([6, 6, 6])"
      ]
     },
     "execution_count": 41,
     "metadata": {},
     "output_type": "execute_result"
    }
   ],
   "source": [
    "# Generate uniform random sample from random list above, i.e. each value has equal chance of being selected\n",
    "np.random.choice(a, 3)"
   ]
  },
  {
   "cell_type": "markdown",
   "metadata": {},
   "source": [
    "The `choice` function offers further functionality. One can also pre-specify the probability of each number being selected to create a non-uniform sampling probability, as follows:"
   ]
  },
  {
   "cell_type": "code",
   "execution_count": 43,
   "metadata": {},
   "outputs": [
    {
     "data": {
      "text/plain": [
       "array([8, 6, 8])"
      ]
     },
     "execution_count": 43,
     "metadata": {},
     "output_type": "execute_result"
    }
   ],
   "source": [
    "# Generate a random sample from a, with pre-specified probabilities of selection\n",
    "np.random.choice(a, 3, p=[0.1, 0.4, 0.2, 0.1, 0.2])"
   ]
  },
  {
   "cell_type": "markdown",
   "metadata": {},
   "source": [
    "Another way to create a non-uniform sample is to *not* [replace a number][1] when it is removed from the list. The default setting for the function is to replace each number as it is selected, thereby ensuring equal probability of being selected again. By addig `replace=False`, one can create a non-uniform sample without pre-specified probabilities as above:\n",
    "\n",
    "[1]: https://www.sharpsightlabs.com/blog/numpy-random-choice/"
   ]
  },
  {
   "cell_type": "code",
   "execution_count": 44,
   "metadata": {},
   "outputs": [
    {
     "data": {
      "text/plain": [
       "array([8, 6, 8])"
      ]
     },
     "execution_count": 44,
     "metadata": {},
     "output_type": "execute_result"
    }
   ],
   "source": [
    "# Generate a non-uniform random sample\n",
    "np.random.choice(a, 3, replace=False)"
   ]
  },
  {
   "cell_type": "markdown",
   "metadata": {},
   "source": [
    "If no 1d-array is specified, the `choice` function will automatically generate an array of specified length, similar to the `np.arange()` function."
   ]
  },
  {
   "cell_type": "code",
   "execution_count": 46,
   "metadata": {},
   "outputs": [
    {
     "data": {
      "text/plain": [
       "array([1, 3])"
      ]
     },
     "execution_count": 46,
     "metadata": {},
     "output_type": "execute_result"
    }
   ],
   "source": [
    "# Generate a uniform random sample from 1-d array of range 5, size 2\n",
    "np.random.choice(5, 2)"
   ]
  },
  {
   "cell_type": "markdown",
   "metadata": {},
   "source": [
    "### Permutations\n",
    "NumPy offers two options for shuffling an array: the `shuffle` and the `permutation` function. Both shuffle an array, with one key [difference][1]: `permutation` returns a shuffled *copy* of the array, while `shuffle` shuffles the array *inplace*. This is an important distinction, as altering the primary data is not always advisable, and in these instances `permutation` is preferred. \n",
    "\n",
    "[1]: https://stackoverflow.com/a/15474335\n"
   ]
  },
  {
   "cell_type": "code",
   "execution_count": 67,
   "metadata": {},
   "outputs": [
    {
     "data": {
      "text/plain": [
       "array([0, 1, 2, 3, 4, 5, 6, 7, 8, 9])"
      ]
     },
     "execution_count": 67,
     "metadata": {},
     "output_type": "execute_result"
    }
   ],
   "source": [
    "# Create a 1d array of length 10\n",
    "arr = np.arange(10)\n",
    "arr"
   ]
  },
  {
   "cell_type": "code",
   "execution_count": 74,
   "metadata": {},
   "outputs": [
    {
     "data": {
      "text/plain": [
       "array([8, 9, 7, 6, 5, 3, 4, 1, 2, 0])"
      ]
     },
     "execution_count": 74,
     "metadata": {},
     "output_type": "execute_result"
    }
   ],
   "source": [
    "# Shuffle arr with shuffle function - note how the original array is now changed\n",
    "np.random.shuffle(arr)\n",
    "arr"
   ]
  },
  {
   "cell_type": "code",
   "execution_count": 70,
   "metadata": {},
   "outputs": [
    {
     "data": {
      "text/plain": [
       "array([0, 1, 2, 3, 4, 5, 6, 7, 8, 9])"
      ]
     },
     "execution_count": 70,
     "metadata": {},
     "output_type": "execute_result"
    }
   ],
   "source": [
    "# Create a 1d array of length 10\n",
    "arr = np.arange(10)\n",
    "arr"
   ]
  },
  {
   "cell_type": "code",
   "execution_count": 72,
   "metadata": {},
   "outputs": [
    {
     "name": "stdout",
     "output_type": "stream",
     "text": [
      "[5 4 8 7 1 6 0 3 2 9]\n",
      "[0 1 2 3 4 5 6 7 8 9]\n"
     ]
    }
   ],
   "source": [
    "#  Shuffle arr using permutaiton function - note how original arrauy is unchanged\n",
    "print(np.random.permutation(arr))\n",
    "print(arr)"
   ]
  },
  {
   "cell_type": "markdown",
   "metadata": {},
   "source": [
    "The second [distinction][1] is that permutation will return a shuffled range if passed an integer, while shuffle requires a pre-determined list or array, and will give an error if passed an integer.\n",
    "\n",
    "[1]: https://stackoverflow.com/a/15474335"
   ]
  },
  {
   "cell_type": "code",
   "execution_count": 75,
   "metadata": {},
   "outputs": [
    {
     "data": {
      "text/plain": [
       "array([5, 6, 7, 3, 1, 8, 2, 4, 0, 9])"
      ]
     },
     "execution_count": 75,
     "metadata": {},
     "output_type": "execute_result"
    }
   ],
   "source": [
    "# Inserting an integer into permutation function returns a shuffled range of length integer\n",
    "np.random.permutation(10)"
   ]
  },
  {
   "cell_type": "code",
   "execution_count": 76,
   "metadata": {},
   "outputs": [
    {
     "ename": "TypeError",
     "evalue": "object of type 'int' has no len()",
     "output_type": "error",
     "traceback": [
      "\u001b[0;31m---------------------------------------------------------------------------\u001b[0m",
      "\u001b[0;31mTypeError\u001b[0m                                 Traceback (most recent call last)",
      "\u001b[0;32m<ipython-input-76-65a7629e742b>\u001b[0m in \u001b[0;36m<module>\u001b[0;34m\u001b[0m\n\u001b[1;32m      1\u001b[0m \u001b[0;31m# Inserting an integer into shuffle function returns an error\u001b[0m\u001b[0;34m\u001b[0m\u001b[0;34m\u001b[0m\u001b[0;34m\u001b[0m\u001b[0m\n\u001b[0;32m----> 2\u001b[0;31m \u001b[0mnp\u001b[0m\u001b[0;34m.\u001b[0m\u001b[0mrandom\u001b[0m\u001b[0;34m.\u001b[0m\u001b[0mshuffle\u001b[0m\u001b[0;34m(\u001b[0m\u001b[0;36m10\u001b[0m\u001b[0;34m)\u001b[0m\u001b[0;34m\u001b[0m\u001b[0;34m\u001b[0m\u001b[0m\n\u001b[0m",
      "\u001b[0;32mmtrand.pyx\u001b[0m in \u001b[0;36mmtrand.RandomState.shuffle\u001b[0;34m()\u001b[0m\n",
      "\u001b[0;31mTypeError\u001b[0m: object of type 'int' has no len()"
     ]
    }
   ],
   "source": [
    "# Inserting an integer into shuffle function returns an error\n",
    "np.random.shuffle(10)"
   ]
  },
  {
   "cell_type": "code",
   "execution_count": null,
   "metadata": {},
   "outputs": [],
   "source": []
  },
  {
   "cell_type": "markdown",
   "metadata": {},
   "source": [
    "## In-text Reference Links\n",
    "* https://realpython.com/python-modules-packages/\n",
    "* https://www.quora.com/What-is-the-difference-between-a-python-module-package-And-when-to-use-which-one\n",
    "* https://docs.python.org/3.7/tutorial/modules.html\n",
    "* https://www.techwalla.com/articles/the-advantages-of-modularization-in-programming\n",
    "* https://files.realpython.com/media/pkg1.9af1c7aea48f.png\n",
    "* https://stackoverflow.com/a/7948672\n",
    "* https://numpy.org/\n",
    "* https://docs.scipy.org/doc/numpy-1.15.0/reference/routines.random.html\n",
    "* https://docs.scipy.org/doc/numpy/reference/random/index.html\n",
    "* https://www.random.org/randomness/\n",
    "* https://docs.scipy.org/doc/numpy-1.15.0/reference/generated/numpy.random.random_integers.html#numpy.random.random_integers\n",
    "* https://www.investopedia.com/terms/u/uniform-distribution.asp\n",
    "* https://www.investopedia.com/terms/n/normaldistribution.asp\n",
    "* https://www.statisticshowto.datasciencecentral.com/probability-and-statistics/normal-distributions/\n",
    "* https://stackoverflow.com/a/18829377\n",
    "* https://www.sharpsightlabs.com/blog/numpy-random-choice/"
   ]
  }
 ],
 "metadata": {
  "kernelspec": {
   "display_name": "Python 3",
   "language": "python",
   "name": "python3"
  },
  "language_info": {
   "codemirror_mode": {
    "name": "ipython",
    "version": 3
   },
   "file_extension": ".py",
   "mimetype": "text/x-python",
   "name": "python",
   "nbconvert_exporter": "python",
   "pygments_lexer": "ipython3",
   "version": "3.7.1"
  }
 },
 "nbformat": 4,
 "nbformat_minor": 2
}
