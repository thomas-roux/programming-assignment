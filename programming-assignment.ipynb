{
 "cells": [
  {
   "cell_type": "markdown",
   "metadata": {},
   "source": [
    "# Programming for Data Analysis Assignment\n",
    "A discussion of the numpy.random package"
   ]
  },
  {
   "cell_type": "markdown",
   "metadata": {},
   "source": [
    "## Python Modules and Packages\n",
    "Before discussing the specific numpy.random package, it is necessary to understand what is a Python package. \n",
    "\n",
    "### Python modules\n",
    "Python allows for [modular programming][1], whereby large program tasks consisting of thousands of lines of code are broken into smaller manageable *modules* of code to allow for easier programming. These modules usually contain code that is [logically similar to each other][2]. Thus, modules are in essence merely files containing Python definitions (coding scripts) with a `.py` suffix [(Python documentation)][3]. The use of modules in this way has [several benefits][4]:\n",
    "* Easier to debug segments of code rather than long scripts\n",
    "* Shorter code segments increases readability and reliability\n",
    "* Allows for the reuse of code segments, speeding up programming\n",
    "\n",
    "[1]: https://realpython.com/python-modules-packages/\n",
    "[2]: https://www.quora.com/What-is-the-difference-between-a-python-module-package-And-when-to-use-which-one\n",
    "[3]: https://docs.python.org/3.7/tutorial/modules.html\n",
    "[4]: https://www.techwalla.com/articles/the-advantages-of-modularization-in-programming"
   ]
  },
  {
   "cell_type": "markdown",
   "metadata": {},
   "source": [
    "### Python packages\n",
    "As the number of modules for a particular script increase, it becomes unwieldy to manage, and can lead to [collisions between module names][1]. This can cause issues with program execution. It is for this reason that Python allows the grouping of modules of similar content and purpose into a hierarchical structure, called [*packages*][2]. A package can then be considered as a collection of modules. ![pkg][3]Unlike modules, however, a package does not take a `.py` suffix, and needs to include an `__init__.py` file to differentiate it from an otherwise normal [hierarchical directory of files][4]. \n",
    "\n",
    "[1]: https://realpython.com/python-modules-packages/\n",
    "[2]: https://docs.python.org/3.7/tutorial/modules.html\n",
    "[3]: https://files.realpython.com/media/pkg1.9af1c7aea48f.png\n",
    "[4]: https://stackoverflow.com/a/7948672"
   ]
  },
  {
   "cell_type": "markdown",
   "metadata": {},
   "source": [
    "## numpy.random package\n",
    "[NumPy][1] is a scientific package for numerical computing in Python; that is, it contains modules that allow for powerful and rapid advanced scientific computing on data. It works with multidimensional homogenous arrays, of array class [`ndarray`][2]. One of the modules contained in the NumPy package is the [`random`][2] module. This module contains several methods that allow the generation of random numbers of type float and interger according to various parameters and sampling distributions. \n",
    "\n",
    "### Importing numpy.random\n",
    "In order to use the methods within the `random` module, it is necessary to first import the NumPy package and its modules. There are a [few ways][4] of doing this.\n",
    "\n",
    "Firstly, one can import the whole NumPy package and then call the `random` module and its methods at each use. Convention is to use the abbreviation `np` when importing NumPy:\n",
    "\n",
    "[1]: https://numpy.org/\n",
    "[2]: https://numpy.org/devdocs/user/quickstart.html#the-basics\n",
    "[3]: https://docs.scipy.org/doc/numpy-1.15.0/reference/routines.random.html\n",
    "[4]: https://docs.python.org/3.7/tutorial/modules.html"
   ]
  },
  {
   "cell_type": "code",
   "execution_count": 3,
   "metadata": {},
   "outputs": [],
   "source": [
    "# Import numpy package\n",
    "import numpy as np"
   ]
  },
  {
   "cell_type": "markdown",
   "metadata": {},
   "source": [
    "Now, when wanting to use the `random` module, one needs to call it each time with the `np` prefix."
   ]
  },
  {
   "cell_type": "code",
   "execution_count": 4,
   "metadata": {},
   "outputs": [
    {
     "data": {
      "text/plain": [
       "array([0.76424837, 0.99921468, 0.54006902])"
      ]
     },
     "execution_count": 4,
     "metadata": {},
     "output_type": "execute_result"
    }
   ],
   "source": [
    "# Generate a 1d-array of 3 random numbers from a uniform distribution\n",
    "np.random.rand(3)"
   ]
  },
  {
   "cell_type": "code",
   "execution_count": 9,
   "metadata": {},
   "outputs": [
    {
     "data": {
      "text/plain": [
       "6"
      ]
     },
     "execution_count": 9,
     "metadata": {},
     "output_type": "execute_result"
    }
   ],
   "source": [
    "# Generate a random integer from zero and up to but excluding 30, from a uniform distribution \n",
    "np.random.randint(30)"
   ]
  },
  {
   "cell_type": "markdown",
   "metadata": {},
   "source": [
    "If one is only going to be using the `random` module, one can import this module and its submodules only."
   ]
  },
  {
   "cell_type": "code",
   "execution_count": 12,
   "metadata": {},
   "outputs": [],
   "source": [
    "# Import numpy.random module\n",
    "from numpy import random"
   ]
  },
  {
   "cell_type": "markdown",
   "metadata": {},
   "source": [
    "Importing the module in this way loads all submodules without the need to include the package prefix when coding."
   ]
  },
  {
   "cell_type": "code",
   "execution_count": 13,
   "metadata": {},
   "outputs": [
    {
     "data": {
      "text/plain": [
       "array([0.69415816, 0.38500707, 0.31214077])"
      ]
     },
     "execution_count": 13,
     "metadata": {},
     "output_type": "execute_result"
    }
   ],
   "source": [
    "# Generate a 1d-array of 3 random numbers from a uniform distribution\n",
    "random.rand(3)"
   ]
  },
  {
   "cell_type": "code",
   "execution_count": 14,
   "metadata": {},
   "outputs": [
    {
     "data": {
      "text/plain": [
       "7"
      ]
     },
     "execution_count": 14,
     "metadata": {},
     "output_type": "execute_result"
    }
   ],
   "source": [
    "# Generate a random integer from zero and up to but excluding 30, from a uniform distribution \n",
    "random.randint(30)"
   ]
  },
  {
   "cell_type": "markdown",
   "metadata": {},
   "source": [
    "However, given the extent of modules contained in the NumPy package, and the packages utility in dealing with numerical data, it is more usual to import the whole package as `np`."
   ]
  },
  {
   "cell_type": "markdown",
   "metadata": {},
   "source": [
    "### A word on uniform and normal distributions\n",
    "Before investigating the simple random functions, it is necessary to describe two types of probability distributions: uniform and normal (or Gaussian). The random values created by the `numpy.random` functions discussed below are generated from either of these distributions; understanding how these affect the probability of a number arising in the array is important when using the `numpy.random` function for data analysis purposes\n",
    "\n",
    "#### Uniform distribution\n",
    "In the [uniform distribution][1], each value has an equal probability of being chosen, e.g. with each flip of a coin, there is an equal probability for heads or tails. This can be represented as a straight line, and is sometimes also referred to as a [rectangular distribution][2], as shown in the following diagram: \n",
    "\n",
    "[1]: https://www.investopedia.com/terms/u/uniform-distribution.asp\n",
    "[2]: http://mathworld.wolfram.com/UniformDistribution.html"
   ]
  },
  {
   "cell_type": "code",
   "execution_count": 19,
   "metadata": {},
   "outputs": [],
   "source": [
    "# Import matplotlib package\n",
    "import matplotlib.pyplot as plt"
   ]
  },
  {
   "cell_type": "code",
   "execution_count": 34,
   "metadata": {},
   "outputs": [],
   "source": [
    "# Generate 10,000 random numbers from a uniform distribution\n",
    "x = np.random.rand(10000)"
   ]
  },
  {
   "cell_type": "code",
   "execution_count": 36,
   "metadata": {},
   "outputs": [
    {
     "data": {
      "text/plain": [
       "(array([1027.,  984., 1034.,  970., 1001.,  993., 1003.,  990., 1005.,\n",
       "         993.]),\n",
       " array([1.42173638e-05, 1.00003358e-01, 1.99992499e-01, 2.99981639e-01,\n",
       "        3.99970780e-01, 4.99959921e-01, 5.99949061e-01, 6.99938202e-01,\n",
       "        7.99927342e-01, 8.99916483e-01, 9.99905624e-01]),\n",
       " <a list of 10 Patch objects>)"
      ]
     },
     "execution_count": 36,
     "metadata": {},
     "output_type": "execute_result"
    },
    {
     "data": {
      "image/png": "[encoded data removed]",
      "text/plain": [
       "<Figure size 432x288 with 1 Axes>"
      ]
     },
     "metadata": {
      "needs_background": "light"
     },
     "output_type": "display_data"
    }
   ],
   "source": [
    "# Plot these numbers on a histogram\n",
    "plt.hist(x)"
   ]
  },
  {
   "cell_type": "markdown",
   "metadata": {},
   "source": [
    "One can see that numbers between 0.0 and 0.2 have a roughly equal chance of arising as numbers between 0.8 and 1.0"
   ]
  },
  {
   "cell_type": "markdown",
   "metadata": {},
   "source": [
    "#### Normal distribution\n",
    "In contrast to the uniform distribution above, values drawn from a normal distribution do not have equal probability of arising. [Normal (or Gaussian) probability distribution][1] is symmetric about a mean, and tapers off towards the ends, giving the shape of a bell; indeed, it is sometimes also referred to as the ['bell curve'][2]. This type of distribution arises in many situations, particularly as it relates to population characteristics, such as height, weight, BMI, etc. Because of the bell curved shape of this distribution, values near the mean (centre) have a greater probability of arising than values near the edges. The fundamental shape of a normal distribution allows a rule of thumb that ~68% of values will occur within ±1 standard deviations (SD) of the mean, and ~95% within ±2 SD. An example of a normal distribution is presented below:\n",
    "\n",
    "[1]: https://www.investopedia.com/terms/n/normaldistribution.asp\n",
    "[2]: https://www.statisticshowto.datasciencecentral.com/probability-and-statistics/normal-distributions/\n"
   ]
  },
  {
   "cell_type": "code",
   "execution_count": 39,
   "metadata": {},
   "outputs": [],
   "source": [
    "# Import seaborn package\n",
    "import seaborn as sns"
   ]
  },
  {
   "cell_type": "code",
   "execution_count": 37,
   "metadata": {},
   "outputs": [],
   "source": [
    "# Generate 10,000 random valuese from a normal distribution\n",
    "y = np.random.randn(10000)"
   ]
  },
  {
   "cell_type": "code",
   "execution_count": 43,
   "metadata": {},
   "outputs": [
    {
     "data": {
      "text/plain": [
       "<matplotlib.axes._subplots.AxesSubplot at 0x1a21b504e0>"
      ]
     },
     "execution_count": 43,
     "metadata": {},
     "output_type": "execute_result"
    },
    {
     "data": {
      "image/png": "[encoded data removed]",
      "text/plain": [
       "<Figure size 432x288 with 1 Axes>"
      ]
     },
     "metadata": {
      "needs_background": "light"
     },
     "output_type": "display_data"
    }
   ],
   "source": [
    "# Plot histogram of values in bins of 50 with kernel density estimate\n",
    "sns.distplot(y, bins=50)"
   ]
  },
  {
   "cell_type": "markdown",
   "metadata": {},
   "source": [
    "The application of the KDE emphasises the bell shape that gives this distribution its name. From this, one can see that values greater than 2 SD from the mean (zero) have a far smaller probability of being chosen than values within 2 SD from the mean."
   ]
  },
  {
   "cell_type": "markdown",
   "metadata": {},
   "source": [
    "Understanding the differences between these two probability distributions is important when working with the `numpy.random` package, as the various modules draw values from different distributions. "
   ]
  },
  {
   "cell_type": "markdown",
   "metadata": {},
   "source": [
    "### Simple random data functions\n",
    "There are [10 functions][1] contained within this module; however, some of these are deprecated and superceded by others (e.g. [random_integers][2]). The main purpose of this group of functions is to generate random values of type integer and float, and present them in a pre-specified array arrangement. Although these numbers may be considered random, in NumPy they are actually [pseudo-random][3]; a [pre-determined algorithm][4] produces a sequence of numbers that appear random, usually based on some mathematical formulae or table of numbers. True random number generators rely on random events (e.g. lightning strike) to determine random numbers; this makes them rather ineffecient for most data analysis tasks.\n",
    "\n",
    "[1]: https://docs.scipy.org/doc/numpy-1.15.0/reference/routines.random.html#simple-random-data\n",
    "[2]: https://docs.scipy.org/doc/numpy-1.15.0/reference/generated/numpy.random.random_integers.html#numpy.random.random_integers\n",
    "[3]: https://docs.scipy.org/doc/numpy/reference/random/index.html\n",
    "[4]: https://www.random.org/randomness/\n"
   ]
  },
  {
   "cell_type": "markdown",
   "metadata": {},
   "source": [
    "#### `rand` function\n",
    "\n",
    "This function returns an `ndarray` of float numbers in a given shape between zero and up to, but not including, one. Numbers are drawn from a **uniform** distribution"
   ]
  },
  {
   "cell_type": "code",
   "execution_count": 16,
   "metadata": {},
   "outputs": [
    {
     "data": {
      "text/plain": [
       "array([[0.85858413, 0.30441836, 0.85587953],\n",
       "       [0.64366264, 0.92904871, 0.30867846],\n",
       "       [0.81427509, 0.89530848, 0.26952844],\n",
       "       [0.24269725, 0.50526237, 0.59149485]])"
      ]
     },
     "execution_count": 16,
     "metadata": {},
     "output_type": "execute_result"
    }
   ],
   "source": [
    "# Generate a 2-d array of 4 rows, 3 columns of random float values between zero and one\n",
    "np.random.rand(4,3) # uniform distribution"
   ]
  },
  {
   "cell_type": "markdown",
   "metadata": {},
   "source": [
    "#### `randn` function\n",
    "Similar to the `rand` function, this returns an `ndarray` of float numbers in a given shape. However, the `randn` function draws these numbers from a **normal** distribution with a mean of zero. For this reason, negative values can occur."
   ]
  },
  {
   "cell_type": "code",
   "execution_count": 18,
   "metadata": {},
   "outputs": [
    {
     "data": {
      "text/plain": [
       "array([[ 0.55399107,  0.11684425, -1.69629439],\n",
       "       [-0.90762562, -2.43445714, -0.98068615],\n",
       "       [-1.28980972,  0.66041682,  0.18113598],\n",
       "       [ 0.08616731,  2.43296519,  2.29427681]])"
      ]
     },
     "execution_count": 18,
     "metadata": {},
     "output_type": "execute_result"
    }
   ],
   "source": [
    "# Generate a 2-d array of 4 rows, 3 columns of random float values\n",
    "np.random.randn(4,3) # normal distribution"
   ]
  },
  {
   "cell_type": "code",
   "execution_count": null,
   "metadata": {},
   "outputs": [],
   "source": []
  },
  {
   "cell_type": "markdown",
   "metadata": {},
   "source": [
    "## In-text Reference Links\n",
    "* https://realpython.com/python-modules-packages/\n",
    "* https://www.quora.com/What-is-the-difference-between-a-python-module-package-And-when-to-use-which-one\n",
    "* https://docs.python.org/3.7/tutorial/modules.html\n",
    "* https://www.techwalla.com/articles/the-advantages-of-modularization-in-programming\n",
    "* https://files.realpython.com/media/pkg1.9af1c7aea48f.png\n",
    "* https://stackoverflow.com/a/7948672\n",
    "* https://numpy.org/\n",
    "* https://docs.scipy.org/doc/numpy-1.15.0/reference/routines.random.html\n",
    "* https://docs.scipy.org/doc/numpy/reference/random/index.html\n",
    "* https://www.random.org/randomness/\n",
    "* https://docs.scipy.org/doc/numpy-1.15.0/reference/generated/numpy.random.random_integers.html#numpy.random.random_integers\n",
    "* https://www.investopedia.com/terms/u/uniform-distribution.asp\n",
    "* https://www.investopedia.com/terms/n/normaldistribution.asp\n",
    "* https://www.statisticshowto.datasciencecentral.com/probability-and-statistics/normal-distributions/"
   ]
  }
 ],
 "metadata": {
  "kernelspec": {
   "display_name": "Python 3",
   "language": "python",
   "name": "python3"
  },
  "language_info": {
   "codemirror_mode": {
    "name": "ipython",
    "version": 3
   },
   "file_extension": ".py",
   "mimetype": "text/x-python",
   "name": "python",
   "nbconvert_exporter": "python",
   "pygments_lexer": "ipython3",
   "version": "3.7.1"
  }
 },
 "nbformat": 4,
 "nbformat_minor": 2
}
