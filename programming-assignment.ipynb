{
 "cells": [
  {
   "cell_type": "markdown",
   "metadata": {},
   "source": [
    "# Programming for Data Analysis Assignment, 2019\n",
    "A discussion of the `numpy.random` package in completion of the assessment as part of Module 52465, 'Programming for Data Analysis', Galway-Mayo Institue of Technology, 2019."
   ]
  },
  {
   "cell_type": "markdown",
   "metadata": {},
   "source": [
    "## Python Modules and Packages\n",
    "Before discussing the specific `numpy.random` package, it is necessary to understand what is a Python package. \n",
    "\n",
    "### Python modules\n",
    "Python allows for [modular programming][1], whereby large program tasks consisting of thousands of lines of code are broken into smaller manageable *modules* of code to allow for easier programming. These modules usually contain code that is [logically similar to each other][2]. Thus, modules are in essence merely files containing Python definitions (coding scripts) with a [`.py` suffix][3]. The use of modules in this way has [several benefits][4]:\n",
    "* Easier to debug segments of code rather than long scripts\n",
    "* Shorter code segments increases readability and reliability\n",
    "* Allows for the reuse of code segments, speeding up programming\n",
    "\n",
    "[1]: https://realpython.com/python-modules-packages/\n",
    "[2]: https://www.quora.com/What-is-the-difference-between-a-python-module-package-And-when-to-use-which-one\n",
    "[3]: https://docs.python.org/3.7/tutorial/modules.html\n",
    "[4]: https://www.techwalla.com/articles/the-advantages-of-modularization-in-programming"
   ]
  },
  {
   "cell_type": "markdown",
   "metadata": {},
   "source": [
    "### Python packages\n",
    "As the number of modules for a particular script increase, it becomes unwieldy to manage, and can lead to [collisions between module names][1]. This can cause issues with program execution. It is for this reason that Python allows the grouping of modules of similar content and purpose into a hierarchical structure, called [*packages*][2]. A package can then be considered as a collection of modules. ![pkg][3]Unlike modules, however, a package does not take a `.py` suffix, and needs to include an `__init__.py` file to differentiate it from an otherwise normal [hierarchical directory of files][4]. \n",
    "\n",
    "[1]: https://realpython.com/python-modules-packages/\n",
    "[2]: https://docs.python.org/3.7/tutorial/modules.html\n",
    "[3]: https://files.realpython.com/media/pkg1.9af1c7aea48f.png\n",
    "[4]: https://stackoverflow.com/a/7948672"
   ]
  },
  {
   "cell_type": "markdown",
   "metadata": {},
   "source": [
    "## numpy.random package\n",
    "[NumPy][1] is a scientific package for numerical computing in Python; that is, it contains modules that allow for powerful and rapid advanced scientific computing on data. It works with multidimensional homogenous arrays, of array class [`ndarray`][2]. One of the modules contained in the NumPy package is the [`random`][2] module. This module contains several methods that allow the generation of random numbers of type float and integer according to various parameters and sampling distributions. \n",
    "\n",
    "### Importing numpy.random\n",
    "In order to use the methods within the `random` module, it is necessary to first import the NumPy package and its modules. There are a [few ways][4] of doing this.\n",
    "\n",
    "Firstly, one can import the whole NumPy package and then call the `random` module and its methods at each use. Convention is to use the abbreviation `np` when importing NumPy:\n",
    "\n",
    "[1]: https://numpy.org/\n",
    "[2]: https://numpy.org/devdocs/user/quickstart.html#the-basics\n",
    "[3]: https://docs.scipy.org/doc/numpy-1.15.0/reference/routines.random.html\n",
    "[4]: https://docs.python.org/3.7/tutorial/modules.html"
   ]
  },
  {
   "cell_type": "code",
   "execution_count": 1,
   "metadata": {},
   "outputs": [],
   "source": [
    "# Import NumPy package\n",
    "import numpy as np"
   ]
  },
  {
   "cell_type": "markdown",
   "metadata": {},
   "source": [
    "Now, when wanting to use the `random` module, one needs to call it each time with the `np` prefix."
   ]
  },
  {
   "cell_type": "code",
   "execution_count": 2,
   "metadata": {},
   "outputs": [
    {
     "data": {
      "text/plain": [
       "array([0.7686468 , 0.84018954, 0.90042897])"
      ]
     },
     "execution_count": 2,
     "metadata": {},
     "output_type": "execute_result"
    }
   ],
   "source": [
    "# Generate a 1d-array of 3 random numbers from a uniform distribution\n",
    "np.random.rand(3)"
   ]
  },
  {
   "cell_type": "code",
   "execution_count": 3,
   "metadata": {},
   "outputs": [
    {
     "data": {
      "text/plain": [
       "0"
      ]
     },
     "execution_count": 3,
     "metadata": {},
     "output_type": "execute_result"
    }
   ],
   "source": [
    "# Generate a random integer from zero and up to but excluding 30, from a uniform distribution \n",
    "np.random.randint(30)"
   ]
  },
  {
   "cell_type": "markdown",
   "metadata": {},
   "source": [
    "If one is only going to be using the `random` module, one can import this module and its submodules only."
   ]
  },
  {
   "cell_type": "code",
   "execution_count": 4,
   "metadata": {},
   "outputs": [],
   "source": [
    "# Import numpy.random module\n",
    "from numpy import random"
   ]
  },
  {
   "cell_type": "markdown",
   "metadata": {},
   "source": [
    "Importing the module in this way loads all submodules without the need to include the package prefix when coding."
   ]
  },
  {
   "cell_type": "code",
   "execution_count": 5,
   "metadata": {},
   "outputs": [
    {
     "data": {
      "text/plain": [
       "array([0.40472053, 0.94845805, 0.1260931 ])"
      ]
     },
     "execution_count": 5,
     "metadata": {},
     "output_type": "execute_result"
    }
   ],
   "source": [
    "# Generate a 1d-array of 3 random numbers from a uniform distribution\n",
    "random.rand(3)"
   ]
  },
  {
   "cell_type": "code",
   "execution_count": 6,
   "metadata": {},
   "outputs": [
    {
     "data": {
      "text/plain": [
       "26"
      ]
     },
     "execution_count": 6,
     "metadata": {},
     "output_type": "execute_result"
    }
   ],
   "source": [
    "# Generate a random integer from zero and up to but excluding 30, from a uniform distribution \n",
    "random.randint(30)"
   ]
  },
  {
   "cell_type": "markdown",
   "metadata": {},
   "source": [
    "However, given the extent of modules contained in the NumPy package, and the packages utility in dealing with numerical data, it is more usual to import the whole package as `np`."
   ]
  },
  {
   "cell_type": "markdown",
   "metadata": {},
   "source": [
    "### A word on uniform and normal distributions\n",
    "Before investigating the simple random functions, it is necessary to describe two types of probability distributions: uniform and normal (or Gaussian). The random values created by the `numpy.random` functions discussed below are generated from either of these distributions; understanding how these affect the probability of a number arising in the array is important when using the `numpy.random` function for data analysis purposes\n",
    "\n",
    "#### Uniform distribution\n",
    "In the [uniform distribution][1], each value has an equal probability of being chosen, e.g. with each flip of a coin, there is an equal probability for heads or tails. This can be represented as a straight line, and is sometimes also referred to as a [rectangular distribution][2], as shown in the following diagram: \n",
    "\n",
    "[1]: https://www.investopedia.com/terms/u/uniform-distribution.asp\n",
    "[2]: http://mathworld.wolfram.com/UniformDistribution.html"
   ]
  },
  {
   "cell_type": "code",
   "execution_count": 54,
   "metadata": {},
   "outputs": [],
   "source": [
    "# Import matplotlib package\n",
    "import matplotlib.pyplot as plt"
   ]
  },
  {
   "cell_type": "code",
   "execution_count": 55,
   "metadata": {},
   "outputs": [],
   "source": [
    "# Generate 10,000 random numbers from a uniform distribution\n",
    "x = np.random.rand(10000)"
   ]
  },
  {
   "cell_type": "code",
   "execution_count": 58,
   "metadata": {},
   "outputs": [
    {
     "data": {
      "text/plain": [
       "(array([0.97800718, 0.97400715, 0.96000705, 1.01900748, 1.01800747,\n",
       "        0.98900726, 1.03000756, 0.9810072 , 1.04200765, 1.00900741]),\n",
       " array([6.64291760e-07, 9.99999301e-02, 1.99999196e-01, 2.99998462e-01,\n",
       "        3.99997727e-01, 4.99996993e-01, 5.99996259e-01, 6.99995525e-01,\n",
       "        7.99994790e-01, 8.99994056e-01, 9.99993322e-01]),\n",
       " <a list of 10 Patch objects>)"
      ]
     },
     "execution_count": 58,
     "metadata": {},
     "output_type": "execute_result"
    },
    {
     "data": {
      "image/png": "[encoded data removed]",
      "text/plain": [
       "<Figure size 720x360 with 1 Axes>"
      ]
     },
     "metadata": {
      "needs_background": "light"
     },
     "output_type": "display_data"
    }
   ],
   "source": [
    "# Plot these numbers on a histogram\n",
    "plt.ylabel('Probability')\n",
    "plt.xlabel('Value')\n",
    "plt.title('Uniform Distribution')\n",
    "plt.hist(x, density=True) # density=True displays a probability density on the y axis instead of a count - https://matplotlib.org/3.1.1/api/_as_gen/matplotlib.pyplot.hist.html"
   ]
  },
  {
   "cell_type": "markdown",
   "metadata": {},
   "source": [
    "One can see that numbers between 0.0 and 0.2 have a roughly equal chance of arising as numbers between 0.8 and 1.0"
   ]
  },
  {
   "cell_type": "markdown",
   "metadata": {},
   "source": [
    "#### Normal distribution\n",
    "In contrast to the uniform distribution above, values drawn from a normal distribution do not have equal probability of arising. [Normal (or Gaussian) probability distribution][1] is symmetric about a mean, and tapers off towards the ends, giving the shape of a bell; indeed, it is sometimes also referred to as the ['bell curve'][2]. This type of distribution arises in many situations, particularly as it relates to population characteristics, such as height, weight, BMI, etc. Because of the bell curved shape of this distribution, values near the mean (centre) have a greater probability of arising than values near the edges. The fundamental shape of a normal distribution allows a rule of thumb that ~68% of values will occur within ±1 standard deviations (SD) of the mean, and ~95% within ±2 SD. An example of a normal distribution is presented below:\n",
    "\n",
    "[1]: https://www.investopedia.com/terms/n/normaldistribution.asp\n",
    "[2]: https://www.statisticshowto.datasciencecentral.com/probability-and-statistics/normal-distributions/\n"
   ]
  },
  {
   "cell_type": "code",
   "execution_count": 11,
   "metadata": {},
   "outputs": [],
   "source": [
    "# Generate 10,000 random values from a normal distribution\n",
    "y = np.random.randn(10000)"
   ]
  },
  {
   "cell_type": "code",
   "execution_count": 60,
   "metadata": {},
   "outputs": [
    {
     "data": {
      "text/plain": [
       "(array([3.89929395e-04, 2.46955284e-03, 2.78149635e-02, 1.20618160e-01,\n",
       "        2.78279612e-01, 3.94348595e-01, 3.08954058e-01, 1.28806677e-01,\n",
       "        3.30140221e-02, 5.06908214e-03]),\n",
       " array([-4.28043518, -3.51106513, -2.74169507, -1.97232502, -1.20295496,\n",
       "        -0.43358491,  0.33578515,  1.1051552 ,  1.87452525,  2.64389531,\n",
       "         3.41326536]),\n",
       " <a list of 10 Patch objects>)"
      ]
     },
     "execution_count": 60,
     "metadata": {},
     "output_type": "execute_result"
    },
    {
     "data": {
      "image/png": "[encoded data removed]",
      "text/plain": [
       "<Figure size 720x360 with 1 Axes>"
      ]
     },
     "metadata": {
      "needs_background": "light"
     },
     "output_type": "display_data"
    }
   ],
   "source": [
    "# Plot values on probability histogram\n",
    "plt.xlabel('Standard Deviation (SD)')\n",
    "plt.ylabel('Probability')\n",
    "plt.title('Normal Distribution')\n",
    "plt.hist(y, density=True)"
   ]
  },
  {
   "cell_type": "markdown",
   "metadata": {},
   "source": [
    "From this, one can see that values greater than 1 SD from the mean (zero) have a far smaller probability of being chosen than values within 1 SD from the mean."
   ]
  },
  {
   "cell_type": "markdown",
   "metadata": {},
   "source": [
    "Understanding the differences between these two probability distributions is important when working with the `numpy.random` package, as the various modules draw values from different distributions. "
   ]
  },
  {
   "cell_type": "markdown",
   "metadata": {},
   "source": [
    "### Simple random data functions\n",
    "There are [10 functions][1] contained within this module; however, some of these are deprecated and superceded by others (e.g. [random_integers][2]), or similar to other functions within the package (e.g [ranf][5]). The main purpose of this group of functions is to generate random values of type integer and float, and present them in a pre-specified array arrangement. Although these numbers may be considered random, in NumPy they are actually [pseudo-random][3]; a [pre-determined algorithm][4] produces a sequence of numbers that appear random, usually based on some mathematical formulae or table of numbers. True random number generators rely on random events (e.g. lightning strike) to determine random numbers; this makes them rather ineffecient for most data analysis tasks.\n",
    "\n",
    "[1]: https://docs.scipy.org/doc/numpy-1.15.0/reference/routines.random.html#simple-random-data\n",
    "[2]: https://docs.scipy.org/doc/numpy-1.15.0/reference/generated/numpy.random.random_integers.html#numpy.random.random_integers\n",
    "[3]: https://docs.scipy.org/doc/numpy/reference/random/index.html\n",
    "[4]: https://www.random.org/randomness/\n",
    "[5]: https://stackoverflow.com/questions/18829185/difference-between-various-numpy-random-functions/18829377#18829377\n"
   ]
  },
  {
   "cell_type": "markdown",
   "metadata": {},
   "source": [
    "#### `rand` function\n",
    "\n",
    "This function returns an `ndarray` of float numbers in a given shape between zero and up to, but not including, one. Numbers are drawn from a **uniform** distribution"
   ]
  },
  {
   "cell_type": "code",
   "execution_count": 64,
   "metadata": {
    "scrolled": true
   },
   "outputs": [
    {
     "data": {
      "text/plain": [
       "array([[0.98036334, 0.13384912, 0.29171089],\n",
       "       [0.92858928, 0.07918058, 0.86453769],\n",
       "       [0.92339085, 0.49895321, 0.12758905],\n",
       "       [0.0744561 , 0.81990928, 0.88532529]])"
      ]
     },
     "execution_count": 64,
     "metadata": {},
     "output_type": "execute_result"
    }
   ],
   "source": [
    "# Generate a 2-d array of 4 rows, 3 columns of random float values between zero and one\n",
    "np.random.rand(4,3) # uniform distribution"
   ]
  },
  {
   "cell_type": "markdown",
   "metadata": {},
   "source": [
    "#### `randn` function\n",
    "Similar to the `rand` function, this returns an `ndarray` of float numbers in a given shape. However, the `randn` function draws these numbers from a **normal** distribution with a mean of zero. For this reason, negative values can occur."
   ]
  },
  {
   "cell_type": "code",
   "execution_count": 65,
   "metadata": {},
   "outputs": [
    {
     "data": {
      "text/plain": [
       "array([[-1.63140528, -0.33368742, -0.60018278],\n",
       "       [ 0.58299635, -0.01259597,  0.21974286],\n",
       "       [-1.72755613, -0.46464246, -0.65166852],\n",
       "       [-0.43062996, -2.248303  ,  0.36276793]])"
      ]
     },
     "execution_count": 65,
     "metadata": {},
     "output_type": "execute_result"
    }
   ],
   "source": [
    "# Generate a 2-d array of 4 rows, 3 columns of random float values\n",
    "np.random.randn(4,3) # normal distribution"
   ]
  },
  {
   "cell_type": "markdown",
   "metadata": {},
   "source": [
    "#### `randint` function\n",
    "This function returns a random integer from a **uniform** distribution between two numbers (from the lowest up to, but excluding, the highest) and presents it in the shape dictated by the input."
   ]
  },
  {
   "cell_type": "code",
   "execution_count": 15,
   "metadata": {},
   "outputs": [
    {
     "data": {
      "text/plain": [
       "array([[5, 9, 9],\n",
       "       [3, 5, 9]])"
      ]
     },
     "execution_count": 15,
     "metadata": {},
     "output_type": "execute_result"
    }
   ],
   "source": [
    "# Generate a 2-d array of 2 rows, 3 columns of random integers between 2 and 10 (excluding)\n",
    "np.random.randint(2,10, size=(2,3))"
   ]
  },
  {
   "cell_type": "markdown",
   "metadata": {},
   "source": [
    "#### `random_integers` function\n",
    "This function is deprecated and replaced by the `randint` function above\n"
   ]
  },
  {
   "cell_type": "markdown",
   "metadata": {},
   "source": [
    "#### `random_sample` function\n",
    "Returns a random sample of floats between zero and one, not including one, from a **uniform** distribution."
   ]
  },
  {
   "cell_type": "code",
   "execution_count": 66,
   "metadata": {},
   "outputs": [
    {
     "data": {
      "text/plain": [
       "array([[0.31808892, 0.5450691 , 0.31165012, 0.3763305 ],\n",
       "       [0.97187033, 0.86754722, 0.93620919, 0.67361612],\n",
       "       [0.89817146, 0.12357072, 0.51674486, 0.12770179]])"
      ]
     },
     "execution_count": 66,
     "metadata": {},
     "output_type": "execute_result"
    }
   ],
   "source": [
    "# Generate a 2-d array of 3 rows, 4 columns of random floats between zero and one (excluding)\n",
    "np.random.random_sample((3,4))"
   ]
  },
  {
   "cell_type": "markdown",
   "metadata": {},
   "source": [
    "#### `random`, `ranf` and `sample` functions\n",
    "These 3 functions are merely aliases for the `random_sample` function and [return the same object][1].\n",
    "\n",
    "[1]: https://stackoverflow.com/a/18829377"
   ]
  },
  {
   "cell_type": "markdown",
   "metadata": {},
   "source": [
    "#### `choice` function\n",
    "Returns a random sample from a *given* 1-d array. This is useful when one wishes to draw a random sample from a given data set to possibly test a machine learning algorithm, as in the following example:"
   ]
  },
  {
   "cell_type": "code",
   "execution_count": 70,
   "metadata": {},
   "outputs": [
    {
     "data": {
      "text/plain": [
       "array([9, 2, 2, 7, 3])"
      ]
     },
     "execution_count": 70,
     "metadata": {},
     "output_type": "execute_result"
    }
   ],
   "source": [
    "# Generate a 1d array of 10 random integers from zero up to, but not including, 10\n",
    "a = np.random.randint(10, size=5)\n",
    "a"
   ]
  },
  {
   "cell_type": "code",
   "execution_count": 71,
   "metadata": {},
   "outputs": [
    {
     "data": {
      "text/plain": [
       "array([3, 3, 3])"
      ]
     },
     "execution_count": 71,
     "metadata": {},
     "output_type": "execute_result"
    }
   ],
   "source": [
    "# Generate uniform random sample of 3 values from random list above, i.e. each value has equal chance of being selected\n",
    "np.random.choice(a, 3)"
   ]
  },
  {
   "cell_type": "markdown",
   "metadata": {},
   "source": [
    "The `choice` function offers further functionality. One can also pre-specify the probability of each number being selected to create a non-uniform sampling probability, as follows:"
   ]
  },
  {
   "cell_type": "code",
   "execution_count": 72,
   "metadata": {},
   "outputs": [
    {
     "data": {
      "text/plain": [
       "array([7, 2, 2])"
      ]
     },
     "execution_count": 72,
     "metadata": {},
     "output_type": "execute_result"
    }
   ],
   "source": [
    "# Generate a random sample from a, with pre-specified probabilities (p) of selection\n",
    "np.random.choice(a, 3, p=[0.1, 0.4, 0.2, 0.1, 0.2])"
   ]
  },
  {
   "cell_type": "markdown",
   "metadata": {},
   "source": [
    "Another way to create a non-uniform sample is to *not* [replace a number][1] when it is removed from the list. The default setting for the function is to replace each number as it is selected, thereby ensuring equal probability of being selected again. By addig `replace=False`, one can create a non-uniform sample without pre-specified probabilities as above:\n",
    "\n",
    "[1]: https://www.sharpsightlabs.com/blog/numpy-random-choice/"
   ]
  },
  {
   "cell_type": "code",
   "execution_count": 73,
   "metadata": {},
   "outputs": [
    {
     "data": {
      "text/plain": [
       "array([2, 9, 3])"
      ]
     },
     "execution_count": 73,
     "metadata": {},
     "output_type": "execute_result"
    }
   ],
   "source": [
    "# Generate a non-uniform random sample\n",
    "np.random.choice(a, 3, replace=False)"
   ]
  },
  {
   "cell_type": "markdown",
   "metadata": {},
   "source": [
    "If no 1d-array is specified, the `choice` function will automatically generate an array of specified length, similar to the `np.arange()` function."
   ]
  },
  {
   "cell_type": "code",
   "execution_count": 21,
   "metadata": {},
   "outputs": [
    {
     "data": {
      "text/plain": [
       "array([0, 2])"
      ]
     },
     "execution_count": 21,
     "metadata": {},
     "output_type": "execute_result"
    }
   ],
   "source": [
    "# Generate a uniform random sample from 1-d array of range 5, size 2\n",
    "np.random.choice(5, 2)"
   ]
  },
  {
   "cell_type": "code",
   "execution_count": 74,
   "metadata": {},
   "outputs": [
    {
     "data": {
      "text/plain": [
       "array([1, 4])"
      ]
     },
     "execution_count": 74,
     "metadata": {},
     "output_type": "execute_result"
    }
   ],
   "source": [
    "# The above is the same as the following code\n",
    "np.random.choice(np.arange(5), 2)"
   ]
  },
  {
   "cell_type": "markdown",
   "metadata": {},
   "source": [
    "### Permutations\n",
    "NumPy offers two options for shuffling an array: the `shuffle` and the `permutation` function. Both shuffle an array, with one key [difference][1]: `permutation` returns a shuffled *copy* of the array, while `shuffle` shuffles the array *inplace*. This is an important distinction, as altering the primary data is not always advisable, and in these instances `permutation` is preferred. \n",
    "\n",
    "[1]: https://stackoverflow.com/a/15474335\n"
   ]
  },
  {
   "cell_type": "code",
   "execution_count": 75,
   "metadata": {},
   "outputs": [
    {
     "data": {
      "text/plain": [
       "array([0, 1, 2, 3, 4, 5, 6, 7, 8, 9])"
      ]
     },
     "execution_count": 75,
     "metadata": {},
     "output_type": "execute_result"
    }
   ],
   "source": [
    "# Create a 1d array of length 10\n",
    "arr1 = np.arange(10)\n",
    "arr1"
   ]
  },
  {
   "cell_type": "code",
   "execution_count": 76,
   "metadata": {},
   "outputs": [
    {
     "data": {
      "text/plain": [
       "array([6, 2, 1, 4, 9, 8, 5, 7, 3, 0])"
      ]
     },
     "execution_count": 76,
     "metadata": {},
     "output_type": "execute_result"
    }
   ],
   "source": [
    "# Shuffle arr with shuffle function\n",
    "# Note how the contents of the original array variable are now changed\n",
    "np.random.shuffle(arr1)\n",
    "arr1"
   ]
  },
  {
   "cell_type": "code",
   "execution_count": 77,
   "metadata": {},
   "outputs": [
    {
     "data": {
      "text/plain": [
       "array([0, 1, 2, 3, 4, 5, 6, 7, 8, 9])"
      ]
     },
     "execution_count": 77,
     "metadata": {},
     "output_type": "execute_result"
    }
   ],
   "source": [
    "# Create a 1d array of length 10\n",
    "arr2 = np.arange(10)\n",
    "arr2"
   ]
  },
  {
   "cell_type": "code",
   "execution_count": 79,
   "metadata": {},
   "outputs": [
    {
     "name": "stdout",
     "output_type": "stream",
     "text": [
      "[3 1 4 8 0 7 6 9 2 5]\n",
      "[0 1 2 3 4 5 6 7 8 9]\n"
     ]
    }
   ],
   "source": [
    "#  Shuffle arr2 using permutation function - note how original array is unchanged\n",
    "print(np.random.permutation(arr2))\n",
    "print(arr2)"
   ]
  },
  {
   "cell_type": "markdown",
   "metadata": {},
   "source": [
    "The second [distinction][1] is that permutation will return a shuffled range if passed an integer, while shuffle requires a pre-determined list or array, and will give an error if passed an integer.\n",
    "\n",
    "[1]: https://stackoverflow.com/a/15474335"
   ]
  },
  {
   "cell_type": "code",
   "execution_count": 26,
   "metadata": {},
   "outputs": [
    {
     "data": {
      "text/plain": [
       "array([7, 4, 9, 1, 0, 6, 8, 2, 3, 5])"
      ]
     },
     "execution_count": 26,
     "metadata": {},
     "output_type": "execute_result"
    }
   ],
   "source": [
    "# Inserting an integer into permutation function returns a shuffled range of length integer\n",
    "np.random.permutation(10)"
   ]
  },
  {
   "cell_type": "code",
   "execution_count": 27,
   "metadata": {},
   "outputs": [],
   "source": [
    "# Inserting an integer into shuffle function returns an error\n",
    "# np.random.shuffle(10) # remove # at start of this line to run code"
   ]
  },
  {
   "cell_type": "markdown",
   "metadata": {},
   "source": [
    "### Distribution functions\n",
    "Similar to the simple random functions above, the distribution functions return a random sample of floats or integers, but from a specified probability distribution. Five of these functions and their probability distributions are discussed below."
   ]
  },
  {
   "cell_type": "markdown",
   "metadata": {},
   "source": [
    "#### `binomial` function\n",
    "This draws a random sample from a binomial distribution. A [binomial probability distribution][1] is used to summarise the likelihood (P) that a value will take one of two discrete, independent values (or 'success', x), given a set number of attempts (or trials, n), e.g. the likelihood of 10 heads if flipping a coin 10 times. As with most probability distributions, several assumptions are present:\n",
    "1. There is only one possible outcome (heads or tails)\n",
    "2. Each attempt at an outcome has an equal probability of success\n",
    "3. The results of one attempt do not influence the results of another\n",
    "\n",
    "The binomial function can be used in [two][2] ways: to determine a random value from the binomial distribution, given a certain probability and number of trials; and to determine the probability of a positive result (success) occuring, given a certain probability and number of trials. \n",
    "\n",
    "##### Random value from binomial distribution\n",
    "Continuing with the coin example above, say we wanted to determine how many times heads would appear if we flipped the same coin 30 times.\n",
    "\n",
    "[1]: https://www.investopedia.com/terms/b/binomialdistribution.asp\n",
    "[2]: https://stattrek.com/probability-distributions/binomial.aspx"
   ]
  },
  {
   "cell_type": "code",
   "execution_count": 82,
   "metadata": {},
   "outputs": [
    {
     "data": {
      "text/plain": [
       "'The number of times heads will appear if flipping a coin 30 times is 14'"
      ]
     },
     "execution_count": 82,
     "metadata": {},
     "output_type": "execute_result"
    }
   ],
   "source": [
    "# Number of trials (n) = 30\n",
    "# Probability of success (P) = 0.5\n",
    "# Generate random sample of successes from binomial distribution\n",
    "s = np.random.binomial(30, 0.5)\n",
    "f\"The number of times heads will appear if flipping a coin 30 times is {s}\""
   ]
  },
  {
   "cell_type": "markdown",
   "metadata": {},
   "source": [
    "`binomial` function also allows testing the same trial a certain amount of times. For example, we could run the same trial above 10 times and return an array of the number of successes each time the trial ran:"
   ]
  },
  {
   "cell_type": "code",
   "execution_count": 83,
   "metadata": {},
   "outputs": [
    {
     "data": {
      "text/plain": [
       "'The number of times heads will appear in 10 consective attemptes if flipping a coin 30 times each attempt is [16 12 19 15 16  9 17 18 12 13]'"
      ]
     },
     "execution_count": 83,
     "metadata": {},
     "output_type": "execute_result"
    }
   ],
   "source": [
    "# Number of trials (n) = 30\n",
    "# Probability of success (P) = 0.5\n",
    "# Number of times trial attempted = 10\n",
    "# Generate random sample of successes from binomial distribution\n",
    "s = np.random.binomial(30, 0.5, 10)\n",
    "f\"The number of times heads will appear in 10 consective attemptes if flipping a coin 30 times each attempt is {s}\""
   ]
  },
  {
   "cell_type": "markdown",
   "metadata": {},
   "source": [
    "A quick test of the mean of this array reveals that the probability remains roughly 0.5 (50% of flips should be heads)."
   ]
  },
  {
   "cell_type": "code",
   "execution_count": 84,
   "metadata": {},
   "outputs": [
    {
     "data": {
      "text/plain": [
       "14.7"
      ]
     },
     "execution_count": 84,
     "metadata": {},
     "output_type": "execute_result"
    }
   ],
   "source": [
    "# Calculate mean of array, i.e. average heads per each attempt out of 30 flips\n",
    "s.mean()"
   ]
  },
  {
   "cell_type": "markdown",
   "metadata": {},
   "source": [
    "Below is a graphical representation of a binomial distribution of running the above trial (number of heads when flipping a coin 30 times) performed 1,000 times:"
   ]
  },
  {
   "cell_type": "code",
   "execution_count": 97,
   "metadata": {},
   "outputs": [
    {
     "name": "stdout",
     "output_type": "stream",
     "text": [
      "14.932\n"
     ]
    },
    {
     "data": {
      "image/png": "[encoded data removed]",
      "text/plain": [
       "<Figure size 720x360 with 1 Axes>"
      ]
     },
     "metadata": {
      "needs_background": "light"
     },
     "output_type": "display_data"
    }
   ],
   "source": [
    "# Number of trials (n) = 30\n",
    "# Probability of success (P) = 0.5\n",
    "# Number of times trial attempted = 1,000\n",
    "# Generate random sample of successes from binomial distribution\n",
    "s = np.random.binomial(30, 0.5, 1000)\n",
    "\n",
    "# Display plot\n",
    "plt.xlabel('Count of heads (successes) per trial')\n",
    "plt.ylabel('Probability of success')\n",
    "plt.title('Binomial distribution, P=0.5')\n",
    "plt.hist(s, density=True)\n",
    "\n",
    "# Display mean number of heads per trial\n",
    "print(s.mean())\n"
   ]
  },
  {
   "cell_type": "markdown",
   "metadata": {},
   "source": [
    "From the above diagram, one can see that the plot is centred around 15 heads per trial, in keeping with a probability of 0.5. Increasing the probability will shift the plot accordingly, as below:"
   ]
  },
  {
   "cell_type": "code",
   "execution_count": 98,
   "metadata": {},
   "outputs": [
    {
     "name": "stdout",
     "output_type": "stream",
     "text": [
      "23.882\n"
     ]
    },
    {
     "data": {
      "image/png": "[encoded data removed]",
      "text/plain": [
       "<Figure size 720x360 with 1 Axes>"
      ]
     },
     "metadata": {
      "needs_background": "light"
     },
     "output_type": "display_data"
    }
   ],
   "source": [
    "# Number of trials (n) = 30\n",
    "# Probability of success (P) = 0.8\n",
    "# Number of times trial attempted = 1,000\n",
    "# Generate random sample of successes from binomial distribution\n",
    "s = np.random.binomial(30, 0.8, 1000)\n",
    "\n",
    "# Display plot\n",
    "plt.title('Binomial distribution, P=0.8')\n",
    "plt.xlabel('Count of heads (successes) per trial')\n",
    "plt.ylabel('Probability of success')\n",
    "plt.hist(s, density=True)\n",
    "\n",
    "# Display mean number of heads per trial\n",
    "print(s.mean())"
   ]
  },
  {
   "cell_type": "markdown",
   "metadata": {},
   "source": [
    "In this instance, the plot is centered around 25, indicating the increased probabilty of flipping a head in each trial."
   ]
  },
  {
   "cell_type": "markdown",
   "metadata": {},
   "source": [
    "##### Determining probability of event arising\n",
    "The binomial distribution can also be used to determine the likelihood of a certain number of events occuring, given a specific probability. For instance, adapting the following problem from the [Python documentation][1]: 15 gas drilling companies have been granted a licence to drill 20 sites around Ireland to search for gas. The probability of success is only 0.1. The probability that at least one site will hit gas is determined as follows:\n",
    "\n",
    "[1]: https://docs.scipy.org/doc/numpy-1.15.0/reference/generated/numpy.random.binomial.html#numpy.random.binomial"
   ]
  },
  {
   "cell_type": "code",
   "execution_count": 99,
   "metadata": {},
   "outputs": [
    {
     "data": {
      "text/plain": [
       "'The probability that at least one site will strike gas is 0.87, or 86.67%'"
      ]
     },
     "execution_count": 99,
     "metadata": {},
     "output_type": "execute_result"
    }
   ],
   "source": [
    "# Number of drill sites (i.e. trials): 20\n",
    "# Probability of success: 0.1\n",
    "# Number of companies (i.e. times attempted): 15\n",
    "# Generate probability by determining the cumulative number of trials that are 'successful'\n",
    "pr = sum(np.random.binomial(20, 0.1, 15) >= 1)/15\n",
    "f\"The probability that at least one site will strike gas is {round(pr,2)}, or {round(pr*100, 2)}%\""
   ]
  },
  {
   "cell_type": "markdown",
   "metadata": {},
   "source": [
    "#### `Chi-square` function\n",
    "This draws a random sample from the Chi-square distribution. The [Chi-square distribution is][1] the distribution of the sum of a random sample of values taken from a normal distribution, squared. It is one of the [most widely used][2] probability distributions in statistics, and is [predominantly used][3] for hypothesis testing and calculating confidence intervals. It is [also used for][4]: \n",
    "1. Testing for population variance\n",
    "2. Testing for independence of two categorical variables\n",
    "3. Goodness-of-fit test\n",
    "4. Testing for sample homogeneity\n",
    "\n",
    "The number of random samples taken from a normal distribution are referred to as **degrees of freedom** (df), and represented by _k_. Because the distribution is based on normal distribution, as the number *k* increases, so the distribution approaches a normal distribution shape: \n",
    "\n",
    "[1]: https://www.statisticshowto.datasciencecentral.com/probability-and-statistics/chi-square/\n",
    "[2]: https://en.wikipedia.org/wiki/Chi-squared_distribution\n",
    "[3]: https://www.itl.nist.gov/div898/handbook/eda/section3/eda3666.htm\n",
    "[4]: https://stepupanalytics.com/application-of-chi-square-distribution/"
   ]
  },
  {
   "cell_type": "code",
   "execution_count": 100,
   "metadata": {},
   "outputs": [
    {
     "data": {
      "text/plain": [
       "(array([0.13172798, 0.16892177, 0.1022829 , 0.06250622, 0.02944508,\n",
       "        0.01549741, 0.00464922, 0.00051658, 0.        , 0.00103316]),\n",
       " array([ 0.05601871,  1.99182607,  3.92763343,  5.86344079,  7.79924815,\n",
       "         9.73505551, 11.67086287, 13.60667023, 15.54247758, 17.47828494,\n",
       "        19.4140923 ]),\n",
       " <a list of 10 Patch objects>)"
      ]
     },
     "execution_count": 100,
     "metadata": {},
     "output_type": "execute_result"
    },
    {
     "data": {
      "image/png": "[encoded data removed]",
      "text/plain": [
       "<Figure size 720x360 with 1 Axes>"
      ]
     },
     "metadata": {
      "needs_background": "light"
     },
     "output_type": "display_data"
    }
   ],
   "source": [
    "# Generate a random sample of 1,000 values from a Chi-square distribution with 4 degrees of freedom (df)\n",
    "chisq = np.random.chisquare(4, 1000)\n",
    "\n",
    "# Plot these values\n",
    "plt.title('Chi-square distribution')\n",
    "plt.xlabel('Value')\n",
    "plt.ylabel('Probability')\n",
    "plt.hist(chisq, density=True)"
   ]
  },
  {
   "cell_type": "markdown",
   "metadata": {},
   "source": [
    "Increasing the df changes the plot:"
   ]
  },
  {
   "cell_type": "code",
   "execution_count": 101,
   "metadata": {},
   "outputs": [
    {
     "data": {
      "text/plain": [
       "(array([0.00218646, 0.0096829 , 0.02545665, 0.0321722 , 0.03560807,\n",
       "        0.02717458, 0.01296259, 0.00655938, 0.00359204, 0.00078088]),\n",
       " array([32.66495831, 39.06800119, 45.47104406, 51.87408694, 58.27712982,\n",
       "        64.68017269, 71.08321557, 77.48625845, 83.88930132, 90.2923442 ,\n",
       "        96.69538708]),\n",
       " <a list of 10 Patch objects>)"
      ]
     },
     "execution_count": 101,
     "metadata": {},
     "output_type": "execute_result"
    },
    {
     "data": {
      "image/png": "[encoded data removed]",
      "text/plain": [
       "<Figure size 720x360 with 1 Axes>"
      ]
     },
     "metadata": {
      "needs_background": "light"
     },
     "output_type": "display_data"
    }
   ],
   "source": [
    "# Generate a random sample of 1,000 values from a Chi-square distribution with 60 df\n",
    "chisqmax = np.random.chisquare(60, 1000)\n",
    "\n",
    "# Plot these values\n",
    "plt.title('Chi-square distribution')\n",
    "plt.xlabel('Value')\n",
    "plt.ylabel('Probability')\n",
    "plt.hist(chisqmax, density=True)"
   ]
  },
  {
   "cell_type": "markdown",
   "metadata": {},
   "source": [
    "Notice how the plot is starting to take on a normal distribution appearance as df increases"
   ]
  },
  {
   "cell_type": "markdown",
   "metadata": {},
   "source": [
    "#### `exponential` function\n",
    "This function draws a random sample from the exponential distribution. The exponential distribution is [used][1] to model the time between events occurring, e.g. how long before a customer enters a shop. It is also [used][2] for testing product reliability, and for building [Markov chains][3], a mathematical system that transitions from one state to another according to fixed probabilities. This is possible due to the inherent [memoryless property][2] of the exponential distribution; [that is][4], the probability of an event occurring in the future has no relation to whether the event occurred in the past.\n",
    "This memoryless property is only present in an exponential distribution. While it is [useful for modelling][5] the behaviour of units that experience a constant rate of failure, it is not always [used appropriately][2], e.g. in certain biological processes, such as events related to aging.  \n",
    "\n",
    "The `exponential` function returns a random array of float values from the exponential distribution. The function takes two arguments: the scale parameter, and the array size. The [scale parameter][6] is the inverse of lambda, which is also called the [rate parameter][7]; this is an indication of how quickly decay of the exponential function occurs, with 1.0 being no decay, and 0.1 being a fast decay.\n",
    "\n",
    "[1]: https://www.statlect.com/probability-distributions/exponential-distribution\n",
    "[2]: https://www.statisticshowto.datasciencecentral.com/exponential-distribution/\n",
    "[3]: https://brilliant.org/wiki/markov-chains/\n",
    "[4]: https://www.statisticshowto.datasciencecentral.com/memoryless-property/\n",
    "[5]: http://reliawiki.org/index.php/The_Exponential_Distribution\n",
    "[6]: https://docs.scipy.org/doc/numpy-1.15.0/reference/generated/numpy.random.exponential.html#numpy.random.exponential\n",
    "[7]: https://www.statisticshowto.datasciencecentral.com/rate-parameter/"
   ]
  },
  {
   "cell_type": "code",
   "execution_count": 36,
   "metadata": {},
   "outputs": [
    {
     "data": {
      "text/plain": [
       "array([2.69244245, 0.25865254, 0.76071028, 0.28757731, 0.53678755,\n",
       "       0.3391964 , 0.30280952, 0.30990906, 0.09051088, 0.37746463])"
      ]
     },
     "execution_count": 36,
     "metadata": {},
     "output_type": "execute_result"
    }
   ],
   "source": [
    "# Generate a random sample of 10 float values from exponential distribution \n",
    "np.random.exponential(size=10)"
   ]
  },
  {
   "cell_type": "code",
   "execution_count": 106,
   "metadata": {},
   "outputs": [
    {
     "data": {
      "text/plain": [
       "Text(0.5, 1.0, 'Three random samples of size 10,000 from exponential distribution')"
      ]
     },
     "execution_count": 106,
     "metadata": {},
     "output_type": "execute_result"
    },
    {
     "data": {
      "image/png": "[encoded data removed]",
      "text/plain": [
       "<Figure size 720x360 with 1 Axes>"
      ]
     },
     "metadata": {
      "needs_background": "light"
     },
     "output_type": "display_data"
    }
   ],
   "source": [
    "# Generate 3 exponential distributions with varying rates of decay (scale parameter)\n",
    "a = np.random.exponential(0.9, size=10000)\n",
    "b = np.random.exponential(0.5, size=10000)\n",
    "c = np.random.exponential(0.1, size=10000)\n",
    "\n",
    "# Plot all 3 distribution samples on same plot\n",
    "plt.hist(a, color='r', label='beta=0.9') # https://stackoverflow.com/a/19125863\n",
    "plt.hist(b, color='b', label='beta=0.5')\n",
    "plt.hist(c, color='y', label='beta=0.1')\n",
    "\n",
    "# Add information on plot\n",
    "plt.legend()\n",
    "plt.xlabel('Value')\n",
    "plt.ylabel('Count')\n",
    "plt.title('Three random samples of size 10,000 from exponential distribution')"
   ]
  },
  {
   "cell_type": "markdown",
   "metadata": {},
   "source": [
    "Notice how high beta values decay slower than low beta values."
   ]
  },
  {
   "cell_type": "markdown",
   "metadata": {},
   "source": [
    "#### `lognormal` function\n",
    "The `lognormal` function returns a random array sample from the lognormal distribution. The [lognormal distribution][1] is a distribution of the logarithmic values of a normal distribution. Because log(n) is always positive, the lognormal distribution will only return [positive values][2]. Because the values returned are the logarithmic values of a normal distribution, the lognormal distribution is useful in [heavily skewed data][3], as it approximates a normal distribution when log-transformed, and can therefore undergo similar statistical analyses as a normal distribution.\n",
    "\n",
    "The `lognormal` function [takes three arguments][4]: the mean of the underlying *normal* distribution; the standard deviation of the underlying *normal* distribution; and the size of the output array:\n",
    "\n",
    "[1]: https://www.investopedia.com/terms/l/log-normal-distribution.asp\n",
    "[2]: https://www.statisticshowto.datasciencecentral.com/lognormal-distribution/\n",
    "[3]: http://onlinestatbook.com/2/transformations/log.html\n",
    "[4]: https://docs.scipy.org/doc/numpy-1.15.0/reference/generated/numpy.random.lognormal.html#numpy.random.lognormal"
   ]
  },
  {
   "cell_type": "code",
   "execution_count": 107,
   "metadata": {},
   "outputs": [
    {
     "data": {
      "text/plain": [
       "array([[26.03156427, 27.36540331],\n",
       "       [19.81797186, 44.6914014 ],\n",
       "       [22.27495273, 26.27476775]])"
      ]
     },
     "execution_count": 107,
     "metadata": {},
     "output_type": "execute_result"
    }
   ],
   "source": [
    "# Generate a random array of 3 rows, 2 columns from lognormal distribution with following properties:\n",
    "# mean of normal distribution = 3.5\n",
    "# standard deviation of normal distribution = 0.3\n",
    "ln = np.random.lognormal(3.5, 0.3, (3,2))\n",
    "ln"
   ]
  },
  {
   "cell_type": "code",
   "execution_count": 108,
   "metadata": {},
   "outputs": [
    {
     "data": {
      "text/plain": [
       "array([[3.25930981, 3.30927956],\n",
       "       [2.9865892 , 3.79978112],\n",
       "       [3.10346285, 3.26860908]])"
      ]
     },
     "execution_count": 108,
     "metadata": {},
     "output_type": "execute_result"
    }
   ],
   "source": [
    "# Convert above array back into normal values\n",
    "np.log(ln)"
   ]
  },
  {
   "cell_type": "code",
   "execution_count": 110,
   "metadata": {
    "scrolled": true
   },
   "outputs": [
    {
     "data": {
      "image/png": "[encoded data removed]",
      "text/plain": [
       "<Figure size 720x360 with 1 Axes>"
      ]
     },
     "metadata": {
      "needs_background": "light"
     },
     "output_type": "display_data"
    }
   ],
   "source": [
    "# Generate 1,000 random values from lognormal distribution \n",
    "mu, sigma = 0, 1.0 # mean and standard deviation\n",
    "s = np.random.lognormal(mu, sigma, 1000)\n",
    "\n",
    "# Display a histogram of the values with probability density function - https://docs.scipy.org/doc/numpy-1.15.0/reference/generated/numpy.random.lognormal.html#numpy.random.lognormal\n",
    "count, bins, ignored = plt.hist(s, 100, density=True, align='mid')\n",
    "x = np.linspace(min(bins), max(bins), 10000)\n",
    "pdf = (np.exp(-(np.log(x) - mu)**2 / (2 * sigma**2)) / (x * sigma * np.sqrt(2 * np.pi)))\n",
    "plt.plot(x, pdf, linewidth=2, color='r')\n",
    "plt.axis('tight')\n",
    "plt.title('Lognormal distribution')\n",
    "plt.show()"
   ]
  },
  {
   "cell_type": "code",
   "execution_count": 112,
   "metadata": {},
   "outputs": [
    {
     "data": {
      "text/plain": [
       "(array([ 10.,  31., 105., 175., 258., 221., 122.,  45.,  29.,   4.]),\n",
       " array([-2.92579352, -2.31502409, -1.70425467, -1.09348524, -0.48271581,\n",
       "         0.12805361,  0.73882304,  1.34959246,  1.96036189,  2.57113132,\n",
       "         3.18190074]),\n",
       " <a list of 10 Patch objects>)"
      ]
     },
     "execution_count": 112,
     "metadata": {},
     "output_type": "execute_result"
    },
    {
     "data": {
      "image/png": "[encoded data removed]",
      "text/plain": [
       "<Figure size 720x360 with 1 Axes>"
      ]
     },
     "metadata": {
      "needs_background": "light"
     },
     "output_type": "display_data"
    }
   ],
   "source": [
    "# Convert above log distribution back to normal values\n",
    "sn = np.log(s)\n",
    "\n",
    "# Plot normal values\n",
    "plt.title('Normal distribution')\n",
    "plt.hist(sn)"
   ]
  },
  {
   "cell_type": "markdown",
   "metadata": {},
   "source": [
    "Notice how the normal distribution includes negative values, while the log-transformation of the same distribution only contains positive values"
   ]
  },
  {
   "cell_type": "markdown",
   "metadata": {},
   "source": [
    "#### `poisson` function\n",
    "Returns a random sample from a Poisson distribution. The [Poisson distribution][1] reveals how many times an event occurs within a specified time period, given a constant rate of the event occurring. For example, the [first application][2] of this distribution was calculating the number of deaths from horse-kicking in the Prussian army. More contemporary examples today would be the number of cyclones in a year, or the number of visits to a website in a day. \n",
    "\n",
    "For an event to be considered using a Poisson distribution, it has to [fulfill three conditions][3]: \n",
    "1. Events are independent of each other; the probability of one event occurring does not affect the probability of any other\n",
    "2. The average rate of events in the region is known\n",
    "3. Events cannot occur at the same time\n",
    "\n",
    "The `poisson` function takes [two arguments][4]: lambda, or the average rate of events occurring over a given interval; and the size and shape of the output array. For example, suppose we have a call centre with an average call rate of 25 calls an hour. We know that anything more than 30 calls an hour would max out the capacity of the centre. We can calculate the probability of this happening in any 24 hour period by using a Poisson distribution: \n",
    "\n",
    "[1]: https://www.investopedia.com/terms/p/poisson-distribution.asp\n",
    "[2]: https://www.intmath.com/counting-probability/13-poisson-probability-distribution.php\n",
    "[3]: https://towardsdatascience.com/the-poisson-distribution-and-poisson-process-explained-4e2cb17d459\n",
    "[4]: https://docs.scipy.org/doc/numpy-1.15.0/reference/generated/numpy.random.poisson.html#numpy.random.poisson"
   ]
  },
  {
   "cell_type": "code",
   "execution_count": 113,
   "metadata": {},
   "outputs": [
    {
     "data": {
      "text/plain": [
       "array([37, 26, 19, 23, 28, 28, 25, 23, 20, 35, 19, 31, 27, 23, 32, 31, 29,\n",
       "       22, 21, 31, 30, 26, 22, 27])"
      ]
     },
     "execution_count": 113,
     "metadata": {},
     "output_type": "execute_result"
    }
   ],
   "source": [
    "# Generate a random array of number of calls per hour for 24 hours, given an average rate of 25 calls an hour\n",
    "calls = np.random.poisson(25, 24)\n",
    "calls"
   ]
  },
  {
   "cell_type": "code",
   "execution_count": 114,
   "metadata": {},
   "outputs": [
    {
     "data": {
      "text/plain": [
       "6"
      ]
     },
     "execution_count": 114,
     "metadata": {},
     "output_type": "execute_result"
    }
   ],
   "source": [
    "# Determine how many hours have more than 30 calls\n",
    "callsmax = sum(calls > 30)\n",
    "callsmax"
   ]
  },
  {
   "cell_type": "code",
   "execution_count": 121,
   "metadata": {},
   "outputs": [
    {
     "data": {
      "text/plain": [
       "'The cumulative probability of more than 30 calls in any hour over 24hrs is 25.0%'"
      ]
     },
     "execution_count": 121,
     "metadata": {},
     "output_type": "execute_result"
    }
   ],
   "source": [
    "# Calculate the cumulative probability of this occurring in any 24hr period\n",
    "callsprob = callsmax/24*100\n",
    "f\"The cumulative probability of more than 30 calls in any hour over 24hrs is {round(callsprob, 2)}%\""
   ]
  },
  {
   "cell_type": "code",
   "execution_count": 122,
   "metadata": {},
   "outputs": [
    {
     "data": {
      "text/plain": [
       "Text(0, 0.5, 'Probability')"
      ]
     },
     "execution_count": 122,
     "metadata": {},
     "output_type": "execute_result"
    },
    {
     "data": {
      "image/png": "[encoded data removed]",
      "text/plain": [
       "<Figure size 720x360 with 1 Axes>"
      ]
     },
     "metadata": {
      "needs_background": "light"
     },
     "output_type": "display_data"
    }
   ],
   "source": [
    "# Increase image size - https://stackoverflow.com/a/36368418\n",
    "plt.rcParams['figure.figsize'] = [10, 5]\n",
    "\n",
    "# Plot this distribution \n",
    "plt.xticks(range(10,50))\n",
    "plt.hist(calls, bins=range(10,50), density=True) # https://stackoverflow.com/a/27084005\n",
    "plt.title('Poisson distribution')\n",
    "plt.xlabel('Number of calls an hour')\n",
    "plt.ylabel('Probability')"
   ]
  },
  {
   "cell_type": "markdown",
   "metadata": {},
   "source": [
    "We can expand this further and examine the likelihood of receiving more than 30 calls an hour over a whole year (365x24):"
   ]
  },
  {
   "cell_type": "code",
   "execution_count": 123,
   "metadata": {},
   "outputs": [
    {
     "data": {
      "text/plain": [
       "'The cumulative probability of more than 30 calls in any hour over a year is 14.18%'"
      ]
     },
     "execution_count": 123,
     "metadata": {},
     "output_type": "execute_result"
    }
   ],
   "source": [
    "# Generate a random array from a Poisson distribution over 365*24 hours\n",
    "callsyr = np.random.poisson(25, 365*24)\n",
    "\n",
    "# Calculate cumulative probability of >30 calls an hour over a year\n",
    "callsyrprob = sum(callsyr > 30)/(365*24)*100\n",
    "f\"The cumulative probability of more than 30 calls in any hour over a year is {round(callsyrprob,2)}%\""
   ]
  },
  {
   "cell_type": "code",
   "execution_count": 126,
   "metadata": {},
   "outputs": [
    {
     "data": {
      "text/plain": [
       "(array([0.00088787, 0.00916413, 0.02587519, 0.07175926, 0.06595637,\n",
       "        0.0647514 , 0.02891933, 0.00738838, 0.00279046, 0.00028539]),\n",
       " array([ 9. , 12.6, 16.2, 19.8, 23.4, 27. , 30.6, 34.2, 37.8, 41.4, 45. ]),\n",
       " <a list of 10 Patch objects>)"
      ]
     },
     "execution_count": 126,
     "metadata": {},
     "output_type": "execute_result"
    },
    {
     "data": {
      "image/png": "[encoded data removed]",
      "text/plain": [
       "<Figure size 720x360 with 1 Axes>"
      ]
     },
     "metadata": {
      "needs_background": "light"
     },
     "output_type": "display_data"
    }
   ],
   "source": [
    "# Plot distribution\n",
    "plt.title('Poisson Distribution')\n",
    "plt.xlabel('Number of calls an hour')\n",
    "plt.ylabel('Probability')\n",
    "plt.hist(callsyr, density=True)"
   ]
  },
  {
   "cell_type": "markdown",
   "metadata": {},
   "source": [
    "### Seeds in pseudorandom number generation\n",
    "As mentioned earlier, Python does not produce truly random numbers; rather, a pre-determined algorithm produces a sequence of numbers that appear random, usually based on some mathematical formulae or table of numbers. In the latest version of Python, pseudorandom numbers are generated by using the [PCG-64 algorithm][1]. Basically, unless specified with a user defined seed, Python will start the algorithm with a random number, usually from the computer's [internal clock][2]. The algorithm then produces values which appear random (due to the [large periodicity][3] of repetition), but are actually deterministic in nature. Because the algorithm is initiated by a random number each time (e.g. the computers clock continues to advance), the numbers at each attempt appear random and unique.\n",
    "\n",
    "However, this is not always desirable when debugging code that uses random numbers. This is where the concept of a seed comes in. By specifying the number that is input into the algorithm (the seed), the pseudorandom numbers that are generated each time can be known (since an algorithm is deterministic). Apart from being useful in debugging, it [also can be useful][4] in: \n",
    "* Teaching about simulation programming\n",
    "* When sharing statistical analyses that involve simulations\n",
    "* When writing code for peer-review\n",
    "\n",
    "NumPy uses the `random.seed` function to set the seed. The following example indicates it use.\n",
    "\n",
    "[1]: https://docs.scipy.org/doc/numpy/reference/random/index.html\n",
    "[2]: https://www.statisticshowto.datasciencecentral.com/random-seed-definition/\n",
    "[3]: https://www.quora.com/What-is-seed-in-random-number-generation\n",
    "[4]: https://stats.stackexchange.com/a/354379"
   ]
  },
  {
   "cell_type": "code",
   "execution_count": 48,
   "metadata": {},
   "outputs": [
    {
     "name": "stdout",
     "output_type": "stream",
     "text": [
      "First time: The random number is: 561\n",
      "Second time: The random number is: 420\n"
     ]
    }
   ],
   "source": [
    "# Generate a pseudorandom number between 0 and 1000 twice\n",
    "print(\"First time: The random number is:\", np.random.randint(1000))\n",
    "print(\"Second time: The random number is:\", np.random.randint(1000))"
   ]
  },
  {
   "cell_type": "markdown",
   "metadata": {},
   "source": [
    "Despite entering the same script, the two numbers are different due to the different starting seed generated by the computer's clock. In the next instance, we set the seed (i.e. starting number) to ensure that the pseudorandom numbers we generated are the same. However, the seed generator 'resets' after each attempt, thus we need to call the seed number each time:"
   ]
  },
  {
   "cell_type": "code",
   "execution_count": 49,
   "metadata": {},
   "outputs": [
    {
     "name": "stdout",
     "output_type": "stream",
     "text": [
      "First time: The random number is: 510\n",
      "Second time: The random number is: 365\n"
     ]
    }
   ],
   "source": [
    "# Set the seed\n",
    "np.random.seed(123)\n",
    "\n",
    "# Again, generate a pseudorandom number between 0 and 1000 twice\n",
    "print(\"First time: The random number is:\", np.random.randint(1000))\n",
    "print(\"Second time: The random number is:\", np.random.randint(1000))"
   ]
  },
  {
   "cell_type": "markdown",
   "metadata": {},
   "source": [
    "The numbers are still different as the seed was not set the second time. "
   ]
  },
  {
   "cell_type": "code",
   "execution_count": 50,
   "metadata": {},
   "outputs": [
    {
     "name": "stdout",
     "output_type": "stream",
     "text": [
      "First time: The random number is: 510\n",
      "Second time: The random number is: 365\n",
      "Third time: The random number is: 510\n"
     ]
    }
   ],
   "source": [
    "# Set the seed\n",
    "np.random.seed(123)\n",
    "\n",
    "# Generate a pseudorandom number between 0 and 1000 twice\n",
    "print(\"First time: The random number is:\", np.random.randint(1000))\n",
    "print(\"Second time: The random number is:\", np.random.randint(1000))\n",
    "\n",
    "# Set the seed again\n",
    "np.random.seed(123)\n",
    "\n",
    "# Generate a pseudorandom number between 0 and 1000 again\n",
    "print(\"Third time: The random number is:\", np.random.randint(1000))"
   ]
  },
  {
   "cell_type": "markdown",
   "metadata": {},
   "source": [
    "The third number now matches the first, as the 'starting point' (seed) of the algorithm in the first and third instance was the same."
   ]
  },
  {
   "cell_type": "markdown",
   "metadata": {},
   "source": [
    "## In-text Reference Links\n",
    "* https://realpython.com/python-modules-packages/\n",
    "* https://www.quora.com/What-is-the-difference-between-a-python-module-package-And-when-to-use-which-one\n",
    "* https://docs.python.org/3.7/tutorial/modules.html\n",
    "* https://www.techwalla.com/articles/the-advantages-of-modularization-in-programming\n",
    "* https://files.realpython.com/media/pkg1.9af1c7aea48f.png\n",
    "* https://stackoverflow.com/a/7948672\n",
    "* https://numpy.org/\n",
    "* https://docs.scipy.org/doc/numpy-1.15.0/reference/routines.random.html\n",
    "* https://docs.scipy.org/doc/numpy/reference/random/index.html\n",
    "* https://www.random.org/randomness/\n",
    "* https://docs.scipy.org/doc/numpy-1.15.0/reference/generated/numpy.random.random_integers.html#numpy.random.random_integers\n",
    "* https://www.investopedia.com/terms/u/uniform-distribution.asp\n",
    "* https://www.investopedia.com/terms/n/normaldistribution.asp\n",
    "* https://www.statisticshowto.datasciencecentral.com/probability-and-statistics/normal-distributions/\n",
    "* https://stackoverflow.com/a/18829377\n",
    "* https://www.sharpsightlabs.com/blog/numpy-random-choice/\n",
    "* https://www.investopedia.com/terms/b/binomialdistribution.asp\n",
    "* https://stattrek.com/probability-distributions/binomial.aspx\n",
    "* https://www.statisticshowto.datasciencecentral.com/probability-and-statistics/chi-square/\n",
    "* https://en.wikipedia.org/wiki/Chi-squared_distribution\n",
    "* https://stepupanalytics.com/application-of-chi-square-distribution/\n",
    "* https://www.itl.nist.gov/div898/handbook/eda/section3/eda3666.htm\n",
    "* https://www.statlect.com/probability-distributions/exponential-distribution\n",
    "* https://www.statisticshowto.datasciencecentral.com/exponential-distribution/\n",
    "* https://www.statisticshowto.datasciencecentral.com/memoryless-property/\n",
    "* http://reliawiki.org/index.php/The_Exponential_Distribution\n",
    "* https://docs.scipy.org/doc/numpy-1.15.0/reference/generated/numpy.random.exponential.html#numpy.random.exponential\n",
    "* https://www.statisticshowto.datasciencecentral.com/rate-parameter/\n",
    "* https://www.investopedia.com/terms/l/log-normal-distribution.asp\n",
    "* https://www.statisticshowto.datasciencecentral.com/lognormal-distribution/\n",
    "* http://onlinestatbook.com/2/transformations/log.html\n",
    "* https://docs.scipy.org/doc/numpy-1.15.0/reference/generated/numpy.random.lognormal.html#numpy.random.lognormal\n",
    "* https://www.investopedia.com/terms/p/poisson-distribution.asp\n",
    "* https://www.intmath.com/counting-probability/13-poisson-probability-distribution.php\n",
    "* https://towardsdatascience.com/the-poisson-distribution-and-poisson-process-explained-4e2cb17d459\n",
    "* https://docs.scipy.org/doc/numpy-1.15.0/reference/generated/numpy.random.poisson.html#numpy.random.poisson"
   ]
  }
 ],
 "metadata": {
  "kernelspec": {
   "display_name": "Python 3",
   "language": "python",
   "name": "python3"
  },
  "language_info": {
   "codemirror_mode": {
    "name": "ipython",
    "version": 3
   },
   "file_extension": ".py",
   "mimetype": "text/x-python",
   "name": "python",
   "nbconvert_exporter": "python",
   "pygments_lexer": "ipython3",
   "version": "3.7.1"
  }
 },
 "nbformat": 4,
 "nbformat_minor": 2
}
