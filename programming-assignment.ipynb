{
 "cells": [
  {
   "cell_type": "markdown",
   "metadata": {},
   "source": [
    "# Programming for Data Analysis Assignment\n",
    "A discussion of the numpy.random package"
   ]
  },
  {
   "cell_type": "markdown",
   "metadata": {},
   "source": [
    "## Python Modules and Packages\n",
    "Before discussing the specific `numpy.random` package, it is necessary to understand what is a Python package. \n",
    "\n",
    "### Python modules\n",
    "Python allows for [modular programming][1], whereby large program tasks consisting of thousands of lines of code are broken into smaller manageable *modules* of code to allow for easier programming. These modules usually contain code that is [logically similar to each other][2]. Thus, modules are in essence merely files containing Python definitions (coding scripts) with a `.py` suffix [(Python documentation)][3]. The use of modules in this way has [several benefits][4]:\n",
    "* Easier to debug segments of code rather than long scripts\n",
    "* Shorter code segments increases readability and reliability\n",
    "* Allows for the reuse of code segments, speeding up programming\n",
    "\n",
    "[1]: https://realpython.com/python-modules-packages/\n",
    "[2]: https://www.quora.com/What-is-the-difference-between-a-python-module-package-And-when-to-use-which-one\n",
    "[3]: https://docs.python.org/3.7/tutorial/modules.html\n",
    "[4]: https://www.techwalla.com/articles/the-advantages-of-modularization-in-programming"
   ]
  },
  {
   "cell_type": "markdown",
   "metadata": {},
   "source": [
    "### Python packages\n",
    "As the number of modules for a particular script increase, it becomes unwieldy to manage, and can lead to [collisions between module names][1]. This can cause issues with program execution. It is for this reason that Python allows the grouping of modules of similar content and purpose into a hierarchical structure, called [*packages*][2]. A package can then be considered as a collection of modules. ![pkg][3]Unlike modules, however, a package does not take a `.py` suffix, and needs to include an `__init__.py` file to differentiate it from an otherwise normal [hierarchical directory of files][4]. \n",
    "\n",
    "[1]: https://realpython.com/python-modules-packages/\n",
    "[2]: https://docs.python.org/3.7/tutorial/modules.html\n",
    "[3]: https://files.realpython.com/media/pkg1.9af1c7aea48f.png\n",
    "[4]: https://stackoverflow.com/a/7948672"
   ]
  },
  {
   "cell_type": "markdown",
   "metadata": {},
   "source": [
    "## numpy.random package\n",
    "[NumPy][1] is a scientific package for numerical computing in Python; that is, it contains modules that allow for powerful and rapid advanced scientific computing on data. It works with multidimensional homogenous arrays, of array class [`ndarray`][2]. One of the modules contained in the NumPy package is the [`random`][2] module. This module contains several methods that allow the generation of random numbers of type float and interger according to various parameters and sampling distributions. \n",
    "\n",
    "### Importing numpy.random\n",
    "In order to use the methods within the `random` module, it is necessary to first import the NumPy package and its modules. There are a [few ways][4] of doing this.\n",
    "\n",
    "Firstly, one can import the whole NumPy package and then call the `random` module and its methods at each use. Convention is to use the abbreviation `np` when importing NumPy:\n",
    "\n",
    "[1]: https://numpy.org/\n",
    "[2]: https://numpy.org/devdocs/user/quickstart.html#the-basics\n",
    "[3]: https://docs.scipy.org/doc/numpy-1.15.0/reference/routines.random.html\n",
    "[4]: https://docs.python.org/3.7/tutorial/modules.html"
   ]
  },
  {
   "cell_type": "code",
   "execution_count": 1,
   "metadata": {},
   "outputs": [],
   "source": [
    "# Import numpy package\n",
    "import numpy as np"
   ]
  },
  {
   "cell_type": "markdown",
   "metadata": {},
   "source": [
    "Now, when wanting to use the `random` module, one needs to call it each time with the `np` prefix."
   ]
  },
  {
   "cell_type": "code",
   "execution_count": 2,
   "metadata": {},
   "outputs": [
    {
     "data": {
      "text/plain": [
       "array([0.38865299, 0.62660677, 0.60426705])"
      ]
     },
     "execution_count": 2,
     "metadata": {},
     "output_type": "execute_result"
    }
   ],
   "source": [
    "# Generate a 1d-array of 3 random numbers from a uniform distribution\n",
    "np.random.rand(3)"
   ]
  },
  {
   "cell_type": "code",
   "execution_count": 3,
   "metadata": {},
   "outputs": [
    {
     "data": {
      "text/plain": [
       "8"
      ]
     },
     "execution_count": 3,
     "metadata": {},
     "output_type": "execute_result"
    }
   ],
   "source": [
    "# Generate a random integer from zero and up to but excluding 30, from a uniform distribution \n",
    "np.random.randint(30)"
   ]
  },
  {
   "cell_type": "markdown",
   "metadata": {},
   "source": [
    "If one is only going to be using the `random` module, one can import this module and its submodules only."
   ]
  },
  {
   "cell_type": "code",
   "execution_count": 4,
   "metadata": {},
   "outputs": [],
   "source": [
    "# Import numpy.random module\n",
    "from numpy import random"
   ]
  },
  {
   "cell_type": "markdown",
   "metadata": {},
   "source": [
    "Importing the module in this way loads all submodules without the need to include the package prefix when coding."
   ]
  },
  {
   "cell_type": "code",
   "execution_count": 5,
   "metadata": {},
   "outputs": [
    {
     "data": {
      "text/plain": [
       "array([0.89755369, 0.09784485, 0.24930331])"
      ]
     },
     "execution_count": 5,
     "metadata": {},
     "output_type": "execute_result"
    }
   ],
   "source": [
    "# Generate a 1d-array of 3 random numbers from a uniform distribution\n",
    "random.rand(3)"
   ]
  },
  {
   "cell_type": "code",
   "execution_count": 6,
   "metadata": {},
   "outputs": [
    {
     "data": {
      "text/plain": [
       "25"
      ]
     },
     "execution_count": 6,
     "metadata": {},
     "output_type": "execute_result"
    }
   ],
   "source": [
    "# Generate a random integer from zero and up to but excluding 30, from a uniform distribution \n",
    "random.randint(30)"
   ]
  },
  {
   "cell_type": "markdown",
   "metadata": {},
   "source": [
    "However, given the extent of modules contained in the NumPy package, and the packages utility in dealing with numerical data, it is more usual to import the whole package as `np`."
   ]
  },
  {
   "cell_type": "markdown",
   "metadata": {},
   "source": [
    "### A word on uniform and normal distributions\n",
    "Before investigating the simple random functions, it is necessary to describe two types of probability distributions: uniform and normal (or Gaussian). The random values created by the `numpy.random` functions discussed below are generated from either of these distributions; understanding how these affect the probability of a number arising in the array is important when using the `numpy.random` function for data analysis purposes\n",
    "\n",
    "#### Uniform distribution\n",
    "In the [uniform distribution][1], each value has an equal probability of being chosen, e.g. with each flip of a coin, there is an equal probability for heads or tails. This can be represented as a straight line, and is sometimes also referred to as a [rectangular distribution][2], as shown in the following diagram: \n",
    "\n",
    "[1]: https://www.investopedia.com/terms/u/uniform-distribution.asp\n",
    "[2]: http://mathworld.wolfram.com/UniformDistribution.html"
   ]
  },
  {
   "cell_type": "code",
   "execution_count": 7,
   "metadata": {},
   "outputs": [],
   "source": [
    "# Import matplotlib package\n",
    "import matplotlib.pyplot as plt"
   ]
  },
  {
   "cell_type": "code",
   "execution_count": 8,
   "metadata": {},
   "outputs": [],
   "source": [
    "# Generate 10,000 random numbers from a uniform distribution\n",
    "x = np.random.rand(10000)"
   ]
  },
  {
   "cell_type": "code",
   "execution_count": 9,
   "metadata": {},
   "outputs": [
    {
     "data": {
      "text/plain": [
       "(array([1031., 1009.,  967., 1008.,  980.,  992.,  992., 1031.,  986.,\n",
       "        1004.]),\n",
       " array([1.52953338e-04, 1.00129511e-01, 2.00106068e-01, 3.00082626e-01,\n",
       "        4.00059183e-01, 5.00035741e-01, 6.00012299e-01, 6.99988856e-01,\n",
       "        7.99965414e-01, 8.99941971e-01, 9.99918529e-01]),\n",
       " <a list of 10 Patch objects>)"
      ]
     },
     "execution_count": 9,
     "metadata": {},
     "output_type": "execute_result"
    },
    {
     "data": {
      "image/png": "[encoded data removed]",
      "text/plain": [
       "<Figure size 432x288 with 1 Axes>"
      ]
     },
     "metadata": {
      "needs_background": "light"
     },
     "output_type": "display_data"
    }
   ],
   "source": [
    "# Plot these numbers on a histogram\n",
    "plt.hist(x)"
   ]
  },
  {
   "cell_type": "markdown",
   "metadata": {},
   "source": [
    "One can see that numbers between 0.0 and 0.2 have a roughly equal chance of arising as numbers between 0.8 and 1.0"
   ]
  },
  {
   "cell_type": "markdown",
   "metadata": {},
   "source": [
    "#### Normal distribution\n",
    "In contrast to the uniform distribution above, values drawn from a normal distribution do not have equal probability of arising. [Normal (or Gaussian) probability distribution][1] is symmetric about a mean, and tapers off towards the ends, giving the shape of a bell; indeed, it is sometimes also referred to as the ['bell curve'][2]. This type of distribution arises in many situations, particularly as it relates to population characteristics, such as height, weight, BMI, etc. Because of the bell curved shape of this distribution, values near the mean (centre) have a greater probability of arising than values near the edges. The fundamental shape of a normal distribution allows a rule of thumb that ~68% of values will occur within ±1 standard deviations (SD) of the mean, and ~95% within ±2 SD. An example of a normal distribution is presented below:\n",
    "\n",
    "[1]: https://www.investopedia.com/terms/n/normaldistribution.asp\n",
    "[2]: https://www.statisticshowto.datasciencecentral.com/probability-and-statistics/normal-distributions/\n"
   ]
  },
  {
   "cell_type": "code",
   "execution_count": 10,
   "metadata": {},
   "outputs": [],
   "source": [
    "# Import seaborn package\n",
    "import seaborn as sns"
   ]
  },
  {
   "cell_type": "code",
   "execution_count": 11,
   "metadata": {},
   "outputs": [],
   "source": [
    "# Generate 10,000 random valuese from a normal distribution\n",
    "y = np.random.randn(10000)"
   ]
  },
  {
   "cell_type": "code",
   "execution_count": 12,
   "metadata": {},
   "outputs": [
    {
     "name": "stderr",
     "output_type": "stream",
     "text": [
      "/anaconda3/lib/python3.7/site-packages/scipy/stats/stats.py:1713: FutureWarning: Using a non-tuple sequence for multidimensional indexing is deprecated; use `arr[tuple(seq)]` instead of `arr[seq]`. In the future this will be interpreted as an array index, `arr[np.array(seq)]`, which will result either in an error or a different result.\n",
      "  return np.add.reduce(sorted[indexer] * weights, axis=axis) / sumval\n"
     ]
    },
    {
     "data": {
      "text/plain": [
       "<matplotlib.axes._subplots.AxesSubplot at 0x1a241888d0>"
      ]
     },
     "execution_count": 12,
     "metadata": {},
     "output_type": "execute_result"
    },
    {
     "data": {
      "image/png": "[encoded data removed]",
      "text/plain": [
       "<Figure size 432x288 with 1 Axes>"
      ]
     },
     "metadata": {
      "needs_background": "light"
     },
     "output_type": "display_data"
    }
   ],
   "source": [
    "# Plot histogram of values in bins of 50 with kernel density estimate included\n",
    "sns.distplot(y, bins=50)"
   ]
  },
  {
   "cell_type": "markdown",
   "metadata": {},
   "source": [
    "The application of the KDE emphasises the bell shape that gives this distribution its name. From this, one can see that values greater than 2 SD from the mean (zero) have a far smaller probability of being chosen than values within 2 SD from the mean."
   ]
  },
  {
   "cell_type": "markdown",
   "metadata": {},
   "source": [
    "Understanding the differences between these two probability distributions is important when working with the `numpy.random` package, as the various modules draw values from different distributions. "
   ]
  },
  {
   "cell_type": "markdown",
   "metadata": {},
   "source": [
    "### Simple random data functions\n",
    "There are [10 functions][1] contained within this module; however, some of these are deprecated and superceded by others (e.g. [random_integers][2]). The main purpose of this group of functions is to generate random values of type integer and float, and present them in a pre-specified array arrangement. Although these numbers may be considered random, in NumPy they are actually [pseudo-random][3]; a [pre-determined algorithm][4] produces a sequence of numbers that appear random, usually based on some mathematical formulae or table of numbers. True random number generators rely on random events (e.g. lightning strike) to determine random numbers; this makes them rather ineffecient for most data analysis tasks.\n",
    "\n",
    "[1]: https://docs.scipy.org/doc/numpy-1.15.0/reference/routines.random.html#simple-random-data\n",
    "[2]: https://docs.scipy.org/doc/numpy-1.15.0/reference/generated/numpy.random.random_integers.html#numpy.random.random_integers\n",
    "[3]: https://docs.scipy.org/doc/numpy/reference/random/index.html\n",
    "[4]: https://www.random.org/randomness/\n"
   ]
  },
  {
   "cell_type": "markdown",
   "metadata": {},
   "source": [
    "#### `rand` function\n",
    "\n",
    "This function returns an `ndarray` of float numbers in a given shape between zero and up to, but not including, one. Numbers are drawn from a **uniform** distribution"
   ]
  },
  {
   "cell_type": "code",
   "execution_count": 13,
   "metadata": {},
   "outputs": [
    {
     "data": {
      "text/plain": [
       "array([[0.81039436, 0.12840914, 0.40770187],\n",
       "       [0.82729667, 0.87441726, 0.11841662],\n",
       "       [0.43714579, 0.22901311, 0.89793557],\n",
       "       [0.41090001, 0.14654723, 0.25744993]])"
      ]
     },
     "execution_count": 13,
     "metadata": {},
     "output_type": "execute_result"
    }
   ],
   "source": [
    "# Generate a 2-d array of 4 rows, 3 columns of random float values between zero and one\n",
    "np.random.rand(4,3) # uniform distribution"
   ]
  },
  {
   "cell_type": "markdown",
   "metadata": {},
   "source": [
    "#### `randn` function\n",
    "Similar to the `rand` function, this returns an `ndarray` of float numbers in a given shape. However, the `randn` function draws these numbers from a **normal** distribution with a mean of zero. For this reason, negative values can occur."
   ]
  },
  {
   "cell_type": "code",
   "execution_count": 14,
   "metadata": {},
   "outputs": [
    {
     "data": {
      "text/plain": [
       "array([[ 1.82685287,  1.33287976,  0.16928732],\n",
       "       [-0.0706013 , -3.36768048,  1.36954017],\n",
       "       [ 1.87705631,  0.77621272,  0.81021298],\n",
       "       [ 0.25312346,  2.00704698, -1.17923744]])"
      ]
     },
     "execution_count": 14,
     "metadata": {},
     "output_type": "execute_result"
    }
   ],
   "source": [
    "# Generate a 2-d array of 4 rows, 3 columns of random float values\n",
    "np.random.randn(4,3) # normal distribution"
   ]
  },
  {
   "cell_type": "markdown",
   "metadata": {},
   "source": [
    "#### `randint` function\n",
    "This function returns a random integer from a **uniform** distribution between two numbers (from the lowest up to, but excluding, the highest) and presents it in the shape dictated by the input."
   ]
  },
  {
   "cell_type": "code",
   "execution_count": 15,
   "metadata": {},
   "outputs": [
    {
     "data": {
      "text/plain": [
       "array([[6, 2, 8],\n",
       "       [4, 5, 2]])"
      ]
     },
     "execution_count": 15,
     "metadata": {},
     "output_type": "execute_result"
    }
   ],
   "source": [
    "# Generate a 2-d array of 2 rows, 3 columns of random integers between 2 and 10 (excluding)\n",
    "np.random.randint(2,10, size=(2,3))"
   ]
  },
  {
   "cell_type": "markdown",
   "metadata": {},
   "source": [
    "#### `random_integers` function\n",
    "This function is deprecated and replaced by the `randint` function above\n"
   ]
  },
  {
   "cell_type": "markdown",
   "metadata": {},
   "source": [
    "#### `random_sample` function\n",
    "Returns a random sample of floats between zero and one, not including one, from a **uniform** distribution."
   ]
  },
  {
   "cell_type": "code",
   "execution_count": 16,
   "metadata": {},
   "outputs": [
    {
     "data": {
      "text/plain": [
       "array([[0.39886237, 0.89535315, 0.89949578, 0.72634555],\n",
       "       [0.79901752, 0.10915932, 0.50080267, 0.19332662],\n",
       "       [0.87306751, 0.26967937, 0.89304332, 0.41766771]])"
      ]
     },
     "execution_count": 16,
     "metadata": {},
     "output_type": "execute_result"
    }
   ],
   "source": [
    "# Generate a 2-d array of 3 rows, 4 columns of random floats between zero and one (excluding)\n",
    "np.random.random_sample((3,4))"
   ]
  },
  {
   "cell_type": "markdown",
   "metadata": {},
   "source": [
    "#### `random`, `ranf` and `sample` functions\n",
    "These 3 functions are merely aliases for the `random_sample` function and [return the same object][1].\n",
    "\n",
    "[1]: https://stackoverflow.com/a/18829377"
   ]
  },
  {
   "cell_type": "markdown",
   "metadata": {},
   "source": [
    "#### `choice` function\n",
    "Returns a random sample from a *given* 1-d array. This is useful when one wishes to draw a random sample from a given data set to possibly test a machine learning algorithm, as in the following example:"
   ]
  },
  {
   "cell_type": "code",
   "execution_count": 17,
   "metadata": {},
   "outputs": [
    {
     "data": {
      "text/plain": [
       "array([6, 5, 6, 6, 2])"
      ]
     },
     "execution_count": 17,
     "metadata": {},
     "output_type": "execute_result"
    }
   ],
   "source": [
    "# Generate a 1d array of 5 random integers from zero up to, but not including, 10\n",
    "a = np.random.randint(10, size=5)\n",
    "a"
   ]
  },
  {
   "cell_type": "code",
   "execution_count": 18,
   "metadata": {},
   "outputs": [
    {
     "data": {
      "text/plain": [
       "array([6, 2, 2])"
      ]
     },
     "execution_count": 18,
     "metadata": {},
     "output_type": "execute_result"
    }
   ],
   "source": [
    "# Generate uniform random sample from random list above, i.e. each value has equal chance of being selected\n",
    "np.random.choice(a, 3)"
   ]
  },
  {
   "cell_type": "markdown",
   "metadata": {},
   "source": [
    "The `choice` function offers further functionality. One can also pre-specify the probability of each number being selected to create a non-uniform sampling probability, as follows:"
   ]
  },
  {
   "cell_type": "code",
   "execution_count": 19,
   "metadata": {},
   "outputs": [
    {
     "data": {
      "text/plain": [
       "array([2, 2, 5])"
      ]
     },
     "execution_count": 19,
     "metadata": {},
     "output_type": "execute_result"
    }
   ],
   "source": [
    "# Generate a random sample from a, with pre-specified probabilities (p) of selection\n",
    "np.random.choice(a, 3, p=[0.1, 0.4, 0.2, 0.1, 0.2])"
   ]
  },
  {
   "cell_type": "markdown",
   "metadata": {},
   "source": [
    "Another way to create a non-uniform sample is to *not* [replace a number][1] when it is removed from the list. The default setting for the function is to replace each number as it is selected, thereby ensuring equal probability of being selected again. By addig `replace=False`, one can create a non-uniform sample without pre-specified probabilities as above:\n",
    "\n",
    "[1]: https://www.sharpsightlabs.com/blog/numpy-random-choice/"
   ]
  },
  {
   "cell_type": "code",
   "execution_count": 20,
   "metadata": {},
   "outputs": [
    {
     "data": {
      "text/plain": [
       "array([6, 5, 2])"
      ]
     },
     "execution_count": 20,
     "metadata": {},
     "output_type": "execute_result"
    }
   ],
   "source": [
    "# Generate a non-uniform random sample\n",
    "np.random.choice(a, 3, replace=False)"
   ]
  },
  {
   "cell_type": "markdown",
   "metadata": {},
   "source": [
    "If no 1d-array is specified, the `choice` function will automatically generate an array of specified length, similar to the `np.arange()` function."
   ]
  },
  {
   "cell_type": "code",
   "execution_count": 21,
   "metadata": {},
   "outputs": [
    {
     "data": {
      "text/plain": [
       "array([1, 1])"
      ]
     },
     "execution_count": 21,
     "metadata": {},
     "output_type": "execute_result"
    }
   ],
   "source": [
    "# Generate a uniform random sample from 1-d array of range 5, size 2\n",
    "np.random.choice(5, 2)"
   ]
  },
  {
   "cell_type": "markdown",
   "metadata": {},
   "source": [
    "### Permutations\n",
    "NumPy offers two options for shuffling an array: the `shuffle` and the `permutation` function. Both shuffle an array, with one key [difference][1]: `permutation` returns a shuffled *copy* of the array, while `shuffle` shuffles the array *inplace*. This is an important distinction, as altering the primary data is not always advisable, and in these instances `permutation` is preferred. \n",
    "\n",
    "[1]: https://stackoverflow.com/a/15474335\n"
   ]
  },
  {
   "cell_type": "code",
   "execution_count": 22,
   "metadata": {},
   "outputs": [
    {
     "data": {
      "text/plain": [
       "array([0, 1, 2, 3, 4, 5, 6, 7, 8, 9])"
      ]
     },
     "execution_count": 22,
     "metadata": {},
     "output_type": "execute_result"
    }
   ],
   "source": [
    "# Create a 1d array of length 10\n",
    "arr = np.arange(10)\n",
    "arr"
   ]
  },
  {
   "cell_type": "code",
   "execution_count": 23,
   "metadata": {},
   "outputs": [
    {
     "data": {
      "text/plain": [
       "array([6, 7, 3, 2, 5, 8, 4, 0, 9, 1])"
      ]
     },
     "execution_count": 23,
     "metadata": {},
     "output_type": "execute_result"
    }
   ],
   "source": [
    "# Shuffle arr with shuffle function\n",
    "# Note how the contents of the original array variable are now changed\n",
    "np.random.shuffle(arr)\n",
    "arr"
   ]
  },
  {
   "cell_type": "code",
   "execution_count": 24,
   "metadata": {},
   "outputs": [
    {
     "data": {
      "text/plain": [
       "array([0, 1, 2, 3, 4, 5, 6, 7, 8, 9])"
      ]
     },
     "execution_count": 24,
     "metadata": {},
     "output_type": "execute_result"
    }
   ],
   "source": [
    "# Create a 1d array of length 10\n",
    "arr = np.arange(10)\n",
    "arr"
   ]
  },
  {
   "cell_type": "code",
   "execution_count": 25,
   "metadata": {},
   "outputs": [
    {
     "name": "stdout",
     "output_type": "stream",
     "text": [
      "[2 7 5 3 1 9 8 4 0 6]\n",
      "[0 1 2 3 4 5 6 7 8 9]\n"
     ]
    }
   ],
   "source": [
    "#  Shuffle arr using permutaiton function - note how original array is unchanged\n",
    "print(np.random.permutation(arr))\n",
    "print(arr)"
   ]
  },
  {
   "cell_type": "markdown",
   "metadata": {},
   "source": [
    "The second [distinction][1] is that permutation will return a shuffled range if passed an integer, while shuffle requires a pre-determined list or array, and will give an error if passed an integer.\n",
    "\n",
    "[1]: https://stackoverflow.com/a/15474335"
   ]
  },
  {
   "cell_type": "code",
   "execution_count": 26,
   "metadata": {},
   "outputs": [
    {
     "data": {
      "text/plain": [
       "array([8, 5, 2, 7, 4, 1, 0, 3, 9, 6])"
      ]
     },
     "execution_count": 26,
     "metadata": {},
     "output_type": "execute_result"
    }
   ],
   "source": [
    "# Inserting an integer into permutation function returns a shuffled range of length integer\n",
    "np.random.permutation(10)"
   ]
  },
  {
   "cell_type": "code",
   "execution_count": 27,
   "metadata": {},
   "outputs": [
    {
     "ename": "TypeError",
     "evalue": "object of type 'int' has no len()",
     "output_type": "error",
     "traceback": [
      "\u001b[0;31m---------------------------------------------------------------------------\u001b[0m",
      "\u001b[0;31mTypeError\u001b[0m                                 Traceback (most recent call last)",
      "\u001b[0;32m<ipython-input-27-65a7629e742b>\u001b[0m in \u001b[0;36m<module>\u001b[0;34m\u001b[0m\n\u001b[1;32m      1\u001b[0m \u001b[0;31m# Inserting an integer into shuffle function returns an error\u001b[0m\u001b[0;34m\u001b[0m\u001b[0;34m\u001b[0m\u001b[0;34m\u001b[0m\u001b[0m\n\u001b[0;32m----> 2\u001b[0;31m \u001b[0mnp\u001b[0m\u001b[0;34m.\u001b[0m\u001b[0mrandom\u001b[0m\u001b[0;34m.\u001b[0m\u001b[0mshuffle\u001b[0m\u001b[0;34m(\u001b[0m\u001b[0;36m10\u001b[0m\u001b[0;34m)\u001b[0m\u001b[0;34m\u001b[0m\u001b[0;34m\u001b[0m\u001b[0m\n\u001b[0m",
      "\u001b[0;32mmtrand.pyx\u001b[0m in \u001b[0;36mmtrand.RandomState.shuffle\u001b[0;34m()\u001b[0m\n",
      "\u001b[0;31mTypeError\u001b[0m: object of type 'int' has no len()"
     ]
    }
   ],
   "source": [
    "# Inserting an integer into shuffle function returns an error\n",
    "np.random.shuffle(10)"
   ]
  },
  {
   "cell_type": "markdown",
   "metadata": {},
   "source": [
    "### Distribution functions\n",
    "Similar to the simple random functions above, the distribution functions return a random sample of floats or integers, but from a specified probability distribution. Five of these functions and their probability distributions are discussed below."
   ]
  },
  {
   "cell_type": "markdown",
   "metadata": {},
   "source": [
    "#### `binomial` function\n",
    "This draws a random sample from a binomial distribution. A [binomial probability distribution][1] is used to summarise the likelihood (*P*) that a value will take one of two discrete, independent values (or 'success', *x*), given a set number of attempts (or trials, *n*), e.g. the likelihood of 10 heads if flipping a coin 10 times. As with most probability distributions, several assumptions are present:\n",
    "1. There is only one possible outcome (heads or tails)\n",
    "2. Each attempt at an outcome has an equal probability of success\n",
    "3. The results of one attempt do not influence the results of another\n",
    "\n",
    "The binomial function can be used in [two][2] ways: to determine a random value from the binomial distribution, given a certain probability and number of trials; and to determine the probability of a positive result (success) occuring, given a certain probability and number of trials. \n",
    "\n",
    "##### Random value from binomial distribution\n",
    "Continuing with the coin example above, say we wanted to determine how many times heads would appear if we flipped the same coin 30 times.\n",
    "\n",
    "[1]: https://www.investopedia.com/terms/b/binomialdistribution.asp\n",
    "[2]: https://stattrek.com/probability-distributions/binomial.aspx"
   ]
  },
  {
   "cell_type": "code",
   "execution_count": 37,
   "metadata": {},
   "outputs": [
    {
     "data": {
      "text/plain": [
       "'The number of times heads will appear if flipping a coin 30 times is 12'"
      ]
     },
     "execution_count": 37,
     "metadata": {},
     "output_type": "execute_result"
    }
   ],
   "source": [
    "# Number of trials (n) = 30\n",
    "# Probability of success (P) = 0.5\n",
    "# Generate random sample of successes from binomial distribution\n",
    "s = np.random.binomial(30, 0.5)\n",
    "f\"The number of times heads will appear if flipping a coin 30 times is {s}\""
   ]
  },
  {
   "cell_type": "markdown",
   "metadata": {},
   "source": [
    "`binomial` function also allows testing the same trial a certain amount of times. For example, we could run the same trial above 10 times and return an array of the number of successes each time the trial ran"
   ]
  },
  {
   "cell_type": "code",
   "execution_count": 38,
   "metadata": {},
   "outputs": [
    {
     "data": {
      "text/plain": [
       "'The number of times heads will appear in 10 consective attemptes if flipping a coin 30 times each attempt is [14 14 14 13 12 12 13 17 16 16]'"
      ]
     },
     "execution_count": 38,
     "metadata": {},
     "output_type": "execute_result"
    }
   ],
   "source": [
    "# Number of trials (n) = 30\n",
    "# Probability of success (P) = 0.5\n",
    "# Number of times trial attempted = 10\n",
    "# Generate random sample of successes from binomial distribution\n",
    "s = np.random.binomial(30, 0.5, 10)\n",
    "f\"The number of times heads will appear in 10 consective attemptes if flipping a coin 30 times each attempt is {s}\""
   ]
  },
  {
   "cell_type": "markdown",
   "metadata": {},
   "source": [
    "A quick test of the mean of this array reveals that the probability remains 0.5 (50% of flips should be heads)."
   ]
  },
  {
   "cell_type": "code",
   "execution_count": 39,
   "metadata": {},
   "outputs": [
    {
     "data": {
      "text/plain": [
       "14.1"
      ]
     },
     "execution_count": 39,
     "metadata": {},
     "output_type": "execute_result"
    }
   ],
   "source": [
    "# Calculate mean of array, i.e. average heads per each attempt out of 30 flips\n",
    "s.mean()"
   ]
  },
  {
   "cell_type": "markdown",
   "metadata": {},
   "source": [
    "Below is a graphical representation of a binomial distribution of running the above trial (number of heads when flipping a coin 30 times) performed 1,000 times:"
   ]
  },
  {
   "cell_type": "code",
   "execution_count": 40,
   "metadata": {},
   "outputs": [
    {
     "name": "stdout",
     "output_type": "stream",
     "text": [
      "15.037\n"
     ]
    },
    {
     "data": {
      "image/png": "[encoded data removed]",
      "text/plain": [
       "<Figure size 432x288 with 1 Axes>"
      ]
     },
     "metadata": {
      "needs_background": "light"
     },
     "output_type": "display_data"
    }
   ],
   "source": [
    "# Number of trials (n) = 30\n",
    "# Probability of success (P) = 0.5\n",
    "# Number of times trial attempted = 1,000\n",
    "# Generate random sample of successes from binomial distribution\n",
    "s = np.random.binomial(30, 0.5, 1000)\n",
    "\n",
    "# Display plot\n",
    "plt.hist(s)\n",
    "\n",
    "# Display mean number of heads per trial\n",
    "print(s.mean())\n"
   ]
  },
  {
   "cell_type": "markdown",
   "metadata": {},
   "source": [
    "From the above diagram, one can see that the plot is centred around 15 heads per trial, in keeping with a probability of 0.5. Increasing the probability will shift the plot accordingly, as below:"
   ]
  },
  {
   "cell_type": "code",
   "execution_count": 41,
   "metadata": {},
   "outputs": [
    {
     "name": "stdout",
     "output_type": "stream",
     "text": [
      "23.992\n"
     ]
    },
    {
     "data": {
      "image/png": "[encoded data removed]",
      "text/plain": [
       "<Figure size 432x288 with 1 Axes>"
      ]
     },
     "metadata": {
      "needs_background": "light"
     },
     "output_type": "display_data"
    }
   ],
   "source": [
    "# Number of trials (n) = 30\n",
    "# Probability of success (P) = 0.8\n",
    "# Number of times trial attempted = 1,000\n",
    "# Generate random sample of successes from binomial distribution\n",
    "s = np.random.binomial(30, 0.8, 1000)\n",
    "\n",
    "# Display plot\n",
    "plt.hist(s)\n",
    "\n",
    "# Display mean number of heads per trial\n",
    "print(s.mean())"
   ]
  },
  {
   "cell_type": "markdown",
   "metadata": {},
   "source": [
    "In this instance, the plot is centered around 25, indicating the increased probabilty of flipping a head in each trial."
   ]
  },
  {
   "cell_type": "markdown",
   "metadata": {},
   "source": [
    "##### Determining probability of event arising\n",
    "The binomial distribution can also be used to determine the likelihood of a certain number of events occuring, given a specific probability. For instance, adapting the following problem from the [Python documentation][1]: 15 gas drilling companies have been granted a licence to drill 20 sites around Ireland to search for gas. The probability of success is only 0.1. The probability that at least one site will hit gas is determined as follows:\n",
    "\n",
    "[1]: https://docs.scipy.org/doc/numpy-1.15.0/reference/generated/numpy.random.binomial.html#numpy.random.binomial"
   ]
  },
  {
   "cell_type": "code",
   "execution_count": 69,
   "metadata": {},
   "outputs": [
    {
     "data": {
      "text/plain": [
       "'The probability that at least one site will strike gas is 0.73, or 73.33%'"
      ]
     },
     "execution_count": 69,
     "metadata": {},
     "output_type": "execute_result"
    }
   ],
   "source": [
    "# Number of drill sites (i.e. trials): 20\n",
    "# Probability of success: 0.1\n",
    "# Number of companies (i.e. times attempted): 15\n",
    "# Generate probability by determining the number of trials that are 'successful'\n",
    "pr = sum(np.random.binomial(20, 0.1, 15) >= 1)/15\n",
    "f\"The probability that at least one site will strike gas is {round(pr,2)}, or {round(pr*100, 2)}%\""
   ]
  },
  {
   "cell_type": "markdown",
   "metadata": {},
   "source": [
    "#### `Chi-square` function\n",
    "This draws a random sample from the Chi-square distribution. The [Chi-square distribution is][1] the distribution of the sum of a random sample of values taken from a normal distribution, squared. It is one of the [most widely used][2] probability distributions in statistics, and is [predominantly used][3] for hypothesis testing and calculating confidence intervals. It is [also used for][4]: \n",
    "1. Testing for population variance\n",
    "2. Testing for independence of two categorical variables\n",
    "3. Goodness-of-fit test\n",
    "4. Testing for sample homogeneity\n",
    "\n",
    "The number of random samples taken from a normal distribution are referred to as **degrees of freedom** (df), and represented by _k_. Because the distribution is based on normal distribution, as the number *k* increases, so the distribution approaches a normal distribution shape: \n",
    "\n",
    "[1]: https://www.statisticshowto.datasciencecentral.com/probability-and-statistics/chi-square/\n",
    "[2]: https://en.wikipedia.org/wiki/Chi-squared_distribution\n",
    "[3]: https://www.itl.nist.gov/div898/handbook/eda/section3/eda3666.htm\n",
    "[4]: https://stepupanalytics.com/application-of-chi-square-distribution/"
   ]
  },
  {
   "cell_type": "code",
   "execution_count": 43,
   "metadata": {},
   "outputs": [
    {
     "data": {
      "text/plain": [
       "(array([332., 325., 190.,  94.,  38.,  11.,   3.,   6.,   0.,   1.]),\n",
       " array([ 0.070268  ,  2.39037925,  4.7104905 ,  7.03060175,  9.350713  ,\n",
       "        11.67082424, 13.99093549, 16.31104674, 18.63115799, 20.95126924,\n",
       "        23.27138049]),\n",
       " <a list of 10 Patch objects>)"
      ]
     },
     "execution_count": 43,
     "metadata": {},
     "output_type": "execute_result"
    },
    {
     "data": {
      "image/png": "[encoded data removed]",
      "text/plain": [
       "<Figure size 432x288 with 1 Axes>"
      ]
     },
     "metadata": {
      "needs_background": "light"
     },
     "output_type": "display_data"
    }
   ],
   "source": [
    "# Generate a random sample of 1,000 values from a Chi-square distribution with 4 degrees of freedom (df)\n",
    "chisq = np.random.chisquare(4, 1000)\n",
    "\n",
    "# Plot these values\n",
    "plt.hist(chisq)"
   ]
  },
  {
   "cell_type": "markdown",
   "metadata": {},
   "source": [
    "Increasing the df changes the plot:"
   ]
  },
  {
   "cell_type": "code",
   "execution_count": 66,
   "metadata": {},
   "outputs": [
    {
     "data": {
      "text/plain": [
       "(array([ 16.,  78., 212., 255., 198., 152.,  59.,  20.,   6.,   4.]),\n",
       " array([ 32.75194837,  39.77610677,  46.80026517,  53.82442357,\n",
       "         60.84858197,  67.87274036,  74.89689876,  81.92105716,\n",
       "         88.94521556,  95.96937396, 102.99353236]),\n",
       " <a list of 10 Patch objects>)"
      ]
     },
     "execution_count": 66,
     "metadata": {},
     "output_type": "execute_result"
    },
    {
     "data": {
      "image/png": "[encoded data removed]",
      "text/plain": [
       "<Figure size 432x288 with 1 Axes>"
      ]
     },
     "metadata": {
      "needs_background": "light"
     },
     "output_type": "display_data"
    }
   ],
   "source": [
    "# Generate a random sample of 1,000 values from a Chi-square distribution with 60 df\n",
    "chisqmax = np.random.chisquare(60, 1000)\n",
    "\n",
    "# Plot these values\n",
    "plt.hist(chisqmax)"
   ]
  },
  {
   "cell_type": "markdown",
   "metadata": {},
   "source": [
    "Notice how the plot is starting to take on a normal distribution appearance as df increases"
   ]
  },
  {
   "cell_type": "markdown",
   "metadata": {},
   "source": [
    "#### `exponential` function\n",
    "This function draws a random sample from the exponential distribution. The exponential distribution is [used][1] to model the time between events occurring, e.g. how long before a customer enters a shop. It is also [used][2] for testing product reliability, and for building [Markov chains][3], a mathematical system that transitions from one state to another according to fixed probabilities. This is possible due to the inherent [memoryless property][2] of the exponential distribution; [that is][4], the probability of an event occurring in the future has no relation to whether the event occurred in the past.\n",
    "This memoryless property is only present in an exponential distribution. While it is [useful for modelling][5] the behaviour of units that experience a constant rate of failure, it is not always [used appropriately][2], e.g. in certain biological processes.  \n",
    "\n",
    "The `exponential` function returns a random array of float values from the exponential distribution. The function takes two arguments: the scale parameter, and the array size. The [scale parameter][6] is the inverse of lambda, which is also called the [rate parameter][7]; this is an indication of how quickly decay of the exponential function occurs, with 1.0 being no decay, and 0.1 being a fast decay.\n",
    "\n",
    "[1]: https://www.statlect.com/probability-distributions/exponential-distribution\n",
    "[2]: https://www.statisticshowto.datasciencecentral.com/exponential-distribution/\n",
    "[3]: https://brilliant.org/wiki/markov-chains/\n",
    "[4]: https://www.statisticshowto.datasciencecentral.com/memoryless-property/\n",
    "[5]: http://reliawiki.org/index.php/The_Exponential_Distribution\n",
    "[6]: https://docs.scipy.org/doc/numpy-1.15.0/reference/generated/numpy.random.exponential.html#numpy.random.exponential\n",
    "[7]: https://www.statisticshowto.datasciencecentral.com/rate-parameter/"
   ]
  },
  {
   "cell_type": "code",
   "execution_count": 53,
   "metadata": {},
   "outputs": [
    {
     "data": {
      "text/plain": [
       "array([0.01900879, 2.45342625, 0.04719148, 2.06516998, 0.79057901,\n",
       "       0.0703449 , 1.68067582, 0.66320458, 1.68972843, 1.41327483])"
      ]
     },
     "execution_count": 53,
     "metadata": {},
     "output_type": "execute_result"
    }
   ],
   "source": [
    "# Generate a random sample of 10 float values from exponential distribution \n",
    "np.random.exponential(size=10)"
   ]
  },
  {
   "cell_type": "code",
   "execution_count": 67,
   "metadata": {},
   "outputs": [
    {
     "data": {
      "text/plain": [
       "Text(0.5, 1.0, 'Three random samples of size 10,000 from exponential distribution')"
      ]
     },
     "execution_count": 67,
     "metadata": {},
     "output_type": "execute_result"
    },
    {
     "data": {
      "image/png": "[encoded data removed]",
      "text/plain": [
       "<Figure size 432x288 with 1 Axes>"
      ]
     },
     "metadata": {
      "needs_background": "light"
     },
     "output_type": "display_data"
    }
   ],
   "source": [
    "# Generate 3 exponential distributions with varying rates of decay (scale parameter)\n",
    "a = np.random.exponential(0.9, size=10000)\n",
    "b = np.random.exponential(0.5, size=10000)\n",
    "c = np.random.exponential(0.1, size=10000)\n",
    "\n",
    "# Plot all 3 distribution samples on same plot\n",
    "plt.hist(a, color='r', label='beta=0.9') # https://stackoverflow.com/a/19125863\n",
    "plt.hist(b, color='b', label='beta=0.5')\n",
    "plt.hist(c, color='y', label='beta=0.1')\n",
    "\n",
    "# Add information on plot\n",
    "plt.legend()\n",
    "plt.title('Three random samples of size 10,000 from exponential distribution')"
   ]
  },
  {
   "cell_type": "markdown",
   "metadata": {},
   "source": [
    "Notice how high beta values decay slower than low beta values."
   ]
  },
  {
   "cell_type": "markdown",
   "metadata": {},
   "source": [
    "#### `lognormal` function\n",
    "The `lognormal` function returns a random array sample from the lognormal distribution. The [lognormal distribution][1] is a distribution of the logarithmic values of a normal distribution. Because log(n) is always positive, the lognormal distribution will only return [positive values][2]. Because the values returned are the logarithmic values of a normal distribution, the lognormal distribution is useful in [heavily skewed data][3], as it approximates a normal distribution when log-transformed, and can therefore undergo similar statistical analyses as a normal distribution.\n",
    "\n",
    "The `lognormal` function [takes three arguments][4]: the mean of the underlying *normal* distribution; the standard deviation of the underlying *normal* distribution; and the size of the output array:\n",
    "\n",
    "[1]: https://www.investopedia.com/terms/l/log-normal-distribution.asp\n",
    "[2]: https://www.statisticshowto.datasciencecentral.com/lognormal-distribution/\n",
    "[3]: http://onlinestatbook.com/2/transformations/log.html\n",
    "[4]: https://docs.scipy.org/doc/numpy-1.15.0/reference/generated/numpy.random.lognormal.html#numpy.random.lognormal"
   ]
  },
  {
   "cell_type": "code",
   "execution_count": 115,
   "metadata": {},
   "outputs": [
    {
     "data": {
      "text/plain": [
       "array([[34.37162348, 30.78031509],\n",
       "       [27.43467384, 36.2296825 ],\n",
       "       [49.73910883, 47.4482615 ]])"
      ]
     },
     "execution_count": 115,
     "metadata": {},
     "output_type": "execute_result"
    }
   ],
   "source": [
    "# Generate a random array of 3 rows, 2 columns from lognormal distribution with following properties:\n",
    "# mean of normal distribution = 35.5\n",
    "# standard deviation of normal distribution = 4.3\n",
    "ln = np.random.lognormal(3.5, 0.3, (3,2))\n",
    "ln"
   ]
  },
  {
   "cell_type": "code",
   "execution_count": 116,
   "metadata": {},
   "outputs": [
    {
     "data": {
      "text/plain": [
       "array([[3.53723133, 3.42687537],\n",
       "       [3.31180768, 3.58987874],\n",
       "       [3.90679152, 3.85963989]])"
      ]
     },
     "execution_count": 116,
     "metadata": {},
     "output_type": "execute_result"
    }
   ],
   "source": [
    "# Convert above array back into normal values\n",
    "np.log(ln)"
   ]
  },
  {
   "cell_type": "code",
   "execution_count": 124,
   "metadata": {
    "scrolled": true
   },
   "outputs": [
    {
     "data": {
      "image/png": "[encoded data removed]",
      "text/plain": [
       "<Figure size 432x288 with 1 Axes>"
      ]
     },
     "metadata": {
      "needs_background": "light"
     },
     "output_type": "display_data"
    }
   ],
   "source": [
    "# Generate 1,000 random values from lognormal distribution with above parameters\n",
    "mu, sigma = 0, 1.0 # mean and standard deviation\n",
    "s = np.random.lognormal(mu, sigma, 1000)\n",
    "\n",
    "# Display a histogram of the values with probability density function - https://docs.scipy.org/doc/numpy-1.15.0/reference/generated/numpy.random.lognormal.html#numpy.random.lognormal\n",
    "count, bins, ignored = plt.hist(s, 100, density=True, align='mid')\n",
    "x = np.linspace(min(bins), max(bins), 10000)\n",
    "pdf = (np.exp(-(np.log(x) - mu)**2 / (2 * sigma**2)) / (x * sigma * np.sqrt(2 * np.pi)))\n",
    "plt.plot(x, pdf, linewidth=2, color='r')\n",
    "plt.axis('tight')\n",
    "plt.show()"
   ]
  },
  {
   "cell_type": "code",
   "execution_count": 125,
   "metadata": {},
   "outputs": [
    {
     "data": {
      "text/plain": [
       "(array([  5.,  17.,  59., 129., 197., 233., 190., 108.,  44.,  18.]),\n",
       " array([-3.12798452, -2.54505658, -1.96212863, -1.37920069, -0.79627274,\n",
       "        -0.2133448 ,  0.36958314,  0.95251109,  1.53543903,  2.11836698,\n",
       "         2.70129492]),\n",
       " <a list of 10 Patch objects>)"
      ]
     },
     "execution_count": 125,
     "metadata": {},
     "output_type": "execute_result"
    },
    {
     "data": {
      "image/png": "[encoded data removed]",
      "text/plain": [
       "<Figure size 432x288 with 1 Axes>"
      ]
     },
     "metadata": {
      "needs_background": "light"
     },
     "output_type": "display_data"
    }
   ],
   "source": [
    "# Convert above log distribution back to normal values\n",
    "sn = np.log(s)\n",
    "\n",
    "# Plot normal values\n",
    "plt.hist(sn)"
   ]
  },
  {
   "cell_type": "markdown",
   "metadata": {},
   "source": [
    "Notice how the normal distribution includes negative values, while the log-transformation of the same distribution only contains positive values"
   ]
  },
  {
   "cell_type": "code",
   "execution_count": null,
   "metadata": {},
   "outputs": [],
   "source": []
  },
  {
   "cell_type": "markdown",
   "metadata": {},
   "source": [
    "## In-text Reference Links\n",
    "* https://realpython.com/python-modules-packages/\n",
    "* https://www.quora.com/What-is-the-difference-between-a-python-module-package-And-when-to-use-which-one\n",
    "* https://docs.python.org/3.7/tutorial/modules.html\n",
    "* https://www.techwalla.com/articles/the-advantages-of-modularization-in-programming\n",
    "* https://files.realpython.com/media/pkg1.9af1c7aea48f.png\n",
    "* https://stackoverflow.com/a/7948672\n",
    "* https://numpy.org/\n",
    "* https://docs.scipy.org/doc/numpy-1.15.0/reference/routines.random.html\n",
    "* https://docs.scipy.org/doc/numpy/reference/random/index.html\n",
    "* https://www.random.org/randomness/\n",
    "* https://docs.scipy.org/doc/numpy-1.15.0/reference/generated/numpy.random.random_integers.html#numpy.random.random_integers\n",
    "* https://www.investopedia.com/terms/u/uniform-distribution.asp\n",
    "* https://www.investopedia.com/terms/n/normaldistribution.asp\n",
    "* https://www.statisticshowto.datasciencecentral.com/probability-and-statistics/normal-distributions/\n",
    "* https://stackoverflow.com/a/18829377\n",
    "* https://www.sharpsightlabs.com/blog/numpy-random-choice/\n",
    "* https://www.investopedia.com/terms/b/binomialdistribution.asp\n",
    "* https://stattrek.com/probability-distributions/binomial.aspx\n",
    "* https://www.statisticshowto.datasciencecentral.com/probability-and-statistics/chi-square/\n",
    "* https://en.wikipedia.org/wiki/Chi-squared_distribution\n",
    "* https://stepupanalytics.com/application-of-chi-square-distribution/\n",
    "* https://www.itl.nist.gov/div898/handbook/eda/section3/eda3666.htm\n",
    "* https://www.statlect.com/probability-distributions/exponential-distribution\n",
    "* https://www.statisticshowto.datasciencecentral.com/exponential-distribution/\n",
    "* https://www.statisticshowto.datasciencecentral.com/memoryless-property/\n",
    "* http://reliawiki.org/index.php/The_Exponential_Distribution\n",
    "* https://docs.scipy.org/doc/numpy-1.15.0/reference/generated/numpy.random.exponential.html#numpy.random.exponential\n",
    "* https://www.statisticshowto.datasciencecentral.com/rate-parameter/\n",
    "* https://www.investopedia.com/terms/l/log-normal-distribution.asp\n",
    "* https://www.statisticshowto.datasciencecentral.com/lognormal-distribution/\n",
    "* http://onlinestatbook.com/2/transformations/log.html\n",
    "* https://docs.scipy.org/doc/numpy-1.15.0/reference/generated/numpy.random.lognormal.html#numpy.random.lognormal"
   ]
  }
 ],
 "metadata": {
  "kernelspec": {
   "display_name": "Python 3",
   "language": "python",
   "name": "python3"
  },
  "language_info": {
   "codemirror_mode": {
    "name": "ipython",
    "version": 3
   },
   "file_extension": ".py",
   "mimetype": "text/x-python",
   "name": "python",
   "nbconvert_exporter": "python",
   "pygments_lexer": "ipython3",
   "version": "3.7.1"
  }
 },
 "nbformat": 4,
 "nbformat_minor": 2
}
