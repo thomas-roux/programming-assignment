{
 "cells": [
  {
   "cell_type": "markdown",
   "metadata": {},
   "source": [
    "# Programming for Data Analysis Assignment\n",
    "A discussion of the numpy.random package"
   ]
  },
  {
   "cell_type": "markdown",
   "metadata": {},
   "source": [
    "## Python Modules and Packages\n",
    "Before discussing the specific `numpy.random` package, it is necessary to understand what is a Python package. \n",
    "\n",
    "### Python modules\n",
    "Python allows for [modular programming][1], whereby large program tasks consisting of thousands of lines of code are broken into smaller manageable *modules* of code to allow for easier programming. These modules usually contain code that is [logically similar to each other][2]. Thus, modules are in essence merely files containing Python definitions (coding scripts) with a `.py` suffix [(Python documentation)][3]. The use of modules in this way has [several benefits][4]:\n",
    "* Easier to debug segments of code rather than long scripts\n",
    "* Shorter code segments increases readability and reliability\n",
    "* Allows for the reuse of code segments, speeding up programming\n",
    "\n",
    "[1]: https://realpython.com/python-modules-packages/\n",
    "[2]: https://www.quora.com/What-is-the-difference-between-a-python-module-package-And-when-to-use-which-one\n",
    "[3]: https://docs.python.org/3.7/tutorial/modules.html\n",
    "[4]: https://www.techwalla.com/articles/the-advantages-of-modularization-in-programming"
   ]
  },
  {
   "cell_type": "markdown",
   "metadata": {},
   "source": [
    "### Python packages\n",
    "As the number of modules for a particular script increase, it becomes unwieldy to manage, and can lead to [collisions between module names][1]. This can cause issues with program execution. It is for this reason that Python allows the grouping of modules of similar content and purpose into a hierarchical structure, called [*packages*][2]. A package can then be considered as a collection of modules. ![pkg][3]Unlike modules, however, a package does not take a `.py` suffix, and needs to include an `__init__.py` file to differentiate it from an otherwise normal [hierarchical directory of files][4]. \n",
    "\n",
    "[1]: https://realpython.com/python-modules-packages/\n",
    "[2]: https://docs.python.org/3.7/tutorial/modules.html\n",
    "[3]: https://files.realpython.com/media/pkg1.9af1c7aea48f.png\n",
    "[4]: https://stackoverflow.com/a/7948672"
   ]
  },
  {
   "cell_type": "markdown",
   "metadata": {},
   "source": [
    "## numpy.random package\n",
    "[NumPy][1] is a scientific package for numerical computing in Python; that is, it contains modules that allow for powerful and rapid advanced scientific computing on data. It works with multidimensional homogenous arrays, of array class [`ndarray`][2]. One of the modules contained in the NumPy package is the [`random`][2] module. This module contains several methods that allow the generation of random numbers of type float and interger according to various parameters and sampling distributions. \n",
    "\n",
    "### Importing numpy.random\n",
    "In order to use the methods within the `random` module, it is necessary to first import the NumPy package and its modules. There are a [few ways][4] of doing this.\n",
    "\n",
    "Firstly, one can import the whole NumPy package and then call the `random` module and its methods at each use. Convention is to use the abbreviation `np` when importing NumPy:\n",
    "\n",
    "[1]: https://numpy.org/\n",
    "[2]: https://numpy.org/devdocs/user/quickstart.html#the-basics\n",
    "[3]: https://docs.scipy.org/doc/numpy-1.15.0/reference/routines.random.html\n",
    "[4]: https://docs.python.org/3.7/tutorial/modules.html"
   ]
  },
  {
   "cell_type": "code",
   "execution_count": 1,
   "metadata": {},
   "outputs": [],
   "source": [
    "# Import numpy package\n",
    "import numpy as np"
   ]
  },
  {
   "cell_type": "markdown",
   "metadata": {},
   "source": [
    "Now, when wanting to use the `random` module, one needs to call it each time with the `np` prefix."
   ]
  },
  {
   "cell_type": "code",
   "execution_count": 2,
   "metadata": {},
   "outputs": [
    {
     "data": {
      "text/plain": [
       "array([0.90794117, 0.27766617, 0.13470555])"
      ]
     },
     "execution_count": 2,
     "metadata": {},
     "output_type": "execute_result"
    }
   ],
   "source": [
    "# Generate a 1d-array of 3 random numbers from a uniform distribution\n",
    "np.random.rand(3)"
   ]
  },
  {
   "cell_type": "code",
   "execution_count": 3,
   "metadata": {},
   "outputs": [
    {
     "data": {
      "text/plain": [
       "27"
      ]
     },
     "execution_count": 3,
     "metadata": {},
     "output_type": "execute_result"
    }
   ],
   "source": [
    "# Generate a random integer from zero and up to but excluding 30, from a uniform distribution \n",
    "np.random.randint(30)"
   ]
  },
  {
   "cell_type": "markdown",
   "metadata": {},
   "source": [
    "If one is only going to be using the `random` module, one can import this module and its submodules only."
   ]
  },
  {
   "cell_type": "code",
   "execution_count": 4,
   "metadata": {},
   "outputs": [],
   "source": [
    "# Import numpy.random module\n",
    "from numpy import random"
   ]
  },
  {
   "cell_type": "markdown",
   "metadata": {},
   "source": [
    "Importing the module in this way loads all submodules without the need to include the package prefix when coding."
   ]
  },
  {
   "cell_type": "code",
   "execution_count": 5,
   "metadata": {},
   "outputs": [
    {
     "data": {
      "text/plain": [
       "array([0.68329311, 0.75578991, 0.48244763])"
      ]
     },
     "execution_count": 5,
     "metadata": {},
     "output_type": "execute_result"
    }
   ],
   "source": [
    "# Generate a 1d-array of 3 random numbers from a uniform distribution\n",
    "random.rand(3)"
   ]
  },
  {
   "cell_type": "code",
   "execution_count": 6,
   "metadata": {},
   "outputs": [
    {
     "data": {
      "text/plain": [
       "24"
      ]
     },
     "execution_count": 6,
     "metadata": {},
     "output_type": "execute_result"
    }
   ],
   "source": [
    "# Generate a random integer from zero and up to but excluding 30, from a uniform distribution \n",
    "random.randint(30)"
   ]
  },
  {
   "cell_type": "markdown",
   "metadata": {},
   "source": [
    "However, given the extent of modules contained in the NumPy package, and the packages utility in dealing with numerical data, it is more usual to import the whole package as `np`."
   ]
  },
  {
   "cell_type": "markdown",
   "metadata": {},
   "source": [
    "### A word on uniform and normal distributions\n",
    "Before investigating the simple random functions, it is necessary to describe two types of probability distributions: uniform and normal (or Gaussian). The random values created by the `numpy.random` functions discussed below are generated from either of these distributions; understanding how these affect the probability of a number arising in the array is important when using the `numpy.random` function for data analysis purposes\n",
    "\n",
    "#### Uniform distribution\n",
    "In the [uniform distribution][1], each value has an equal probability of being chosen, e.g. with each flip of a coin, there is an equal probability for heads or tails. This can be represented as a straight line, and is sometimes also referred to as a [rectangular distribution][2], as shown in the following diagram: \n",
    "\n",
    "[1]: https://www.investopedia.com/terms/u/uniform-distribution.asp\n",
    "[2]: http://mathworld.wolfram.com/UniformDistribution.html"
   ]
  },
  {
   "cell_type": "code",
   "execution_count": 7,
   "metadata": {},
   "outputs": [],
   "source": [
    "# Import matplotlib package\n",
    "import matplotlib.pyplot as plt"
   ]
  },
  {
   "cell_type": "code",
   "execution_count": 8,
   "metadata": {},
   "outputs": [],
   "source": [
    "# Generate 10,000 random numbers from a uniform distribution\n",
    "x = np.random.rand(10000)"
   ]
  },
  {
   "cell_type": "code",
   "execution_count": 9,
   "metadata": {},
   "outputs": [
    {
     "data": {
      "text/plain": [
       "(array([ 966.,  978., 1004., 1057.,  979.,  992.,  954., 1023., 1054.,\n",
       "         993.]),\n",
       " array([1.48852390e-05, 1.00012822e-01, 2.00010760e-01, 3.00008697e-01,\n",
       "        4.00006634e-01, 5.00004572e-01, 6.00002509e-01, 7.00000446e-01,\n",
       "        7.99998383e-01, 8.99996321e-01, 9.99994258e-01]),\n",
       " <a list of 10 Patch objects>)"
      ]
     },
     "execution_count": 9,
     "metadata": {},
     "output_type": "execute_result"
    },
    {
     "data": {
      "image/png": "[encoded data removed]",
      "text/plain": [
       "<Figure size 432x288 with 1 Axes>"
      ]
     },
     "metadata": {
      "needs_background": "light"
     },
     "output_type": "display_data"
    }
   ],
   "source": [
    "# Plot these numbers on a histogram\n",
    "plt.hist(x)"
   ]
  },
  {
   "cell_type": "markdown",
   "metadata": {},
   "source": [
    "One can see that numbers between 0.0 and 0.2 have a roughly equal chance of arising as numbers between 0.8 and 1.0"
   ]
  },
  {
   "cell_type": "markdown",
   "metadata": {},
   "source": [
    "#### Normal distribution\n",
    "In contrast to the uniform distribution above, values drawn from a normal distribution do not have equal probability of arising. [Normal (or Gaussian) probability distribution][1] is symmetric about a mean, and tapers off towards the ends, giving the shape of a bell; indeed, it is sometimes also referred to as the ['bell curve'][2]. This type of distribution arises in many situations, particularly as it relates to population characteristics, such as height, weight, BMI, etc. Because of the bell curved shape of this distribution, values near the mean (centre) have a greater probability of arising than values near the edges. The fundamental shape of a normal distribution allows a rule of thumb that ~68% of values will occur within ±1 standard deviations (SD) of the mean, and ~95% within ±2 SD. An example of a normal distribution is presented below:\n",
    "\n",
    "[1]: https://www.investopedia.com/terms/n/normaldistribution.asp\n",
    "[2]: https://www.statisticshowto.datasciencecentral.com/probability-and-statistics/normal-distributions/\n"
   ]
  },
  {
   "cell_type": "code",
   "execution_count": 10,
   "metadata": {},
   "outputs": [],
   "source": [
    "# Import seaborn package\n",
    "import seaborn as sns"
   ]
  },
  {
   "cell_type": "code",
   "execution_count": 11,
   "metadata": {},
   "outputs": [],
   "source": [
    "# Generate 10,000 random valuese from a normal distribution\n",
    "y = np.random.randn(10000)"
   ]
  },
  {
   "cell_type": "code",
   "execution_count": 12,
   "metadata": {},
   "outputs": [
    {
     "name": "stderr",
     "output_type": "stream",
     "text": [
      "/anaconda3/lib/python3.7/site-packages/scipy/stats/stats.py:1713: FutureWarning: Using a non-tuple sequence for multidimensional indexing is deprecated; use `arr[tuple(seq)]` instead of `arr[seq]`. In the future this will be interpreted as an array index, `arr[np.array(seq)]`, which will result either in an error or a different result.\n",
      "  return np.add.reduce(sorted[indexer] * weights, axis=axis) / sumval\n"
     ]
    },
    {
     "data": {
      "text/plain": [
       "<matplotlib.axes._subplots.AxesSubplot at 0x1a206b89b0>"
      ]
     },
     "execution_count": 12,
     "metadata": {},
     "output_type": "execute_result"
    },
    {
     "data": {
      "image/png": "[encoded data removed]",
      "text/plain": [
       "<Figure size 432x288 with 1 Axes>"
      ]
     },
     "metadata": {
      "needs_background": "light"
     },
     "output_type": "display_data"
    }
   ],
   "source": [
    "# Plot histogram of values in bins of 50 with kernel density estimate included\n",
    "sns.distplot(y, bins=50)"
   ]
  },
  {
   "cell_type": "markdown",
   "metadata": {},
   "source": [
    "The application of the KDE emphasises the bell shape that gives this distribution its name. From this, one can see that values greater than 2 SD from the mean (zero) have a far smaller probability of being chosen than values within 2 SD from the mean."
   ]
  },
  {
   "cell_type": "markdown",
   "metadata": {},
   "source": [
    "Understanding the differences between these two probability distributions is important when working with the `numpy.random` package, as the various modules draw values from different distributions. "
   ]
  },
  {
   "cell_type": "markdown",
   "metadata": {},
   "source": [
    "### Simple random data functions\n",
    "There are [10 functions][1] contained within this module; however, some of these are deprecated and superceded by others (e.g. [random_integers][2]). The main purpose of this group of functions is to generate random values of type integer and float, and present them in a pre-specified array arrangement. Although these numbers may be considered random, in NumPy they are actually [pseudo-random][3]; a [pre-determined algorithm][4] produces a sequence of numbers that appear random, usually based on some mathematical formulae or table of numbers. True random number generators rely on random events (e.g. lightning strike) to determine random numbers; this makes them rather ineffecient for most data analysis tasks.\n",
    "\n",
    "[1]: https://docs.scipy.org/doc/numpy-1.15.0/reference/routines.random.html#simple-random-data\n",
    "[2]: https://docs.scipy.org/doc/numpy-1.15.0/reference/generated/numpy.random.random_integers.html#numpy.random.random_integers\n",
    "[3]: https://docs.scipy.org/doc/numpy/reference/random/index.html\n",
    "[4]: https://www.random.org/randomness/\n"
   ]
  },
  {
   "cell_type": "markdown",
   "metadata": {},
   "source": [
    "#### `rand` function\n",
    "\n",
    "This function returns an `ndarray` of float numbers in a given shape between zero and up to, but not including, one. Numbers are drawn from a **uniform** distribution"
   ]
  },
  {
   "cell_type": "code",
   "execution_count": 13,
   "metadata": {},
   "outputs": [
    {
     "data": {
      "text/plain": [
       "array([[0.06822024, 0.93146374, 0.22140154],\n",
       "       [0.27449734, 0.11777287, 0.58915429],\n",
       "       [0.02177454, 0.35805066, 0.35383822],\n",
       "       [0.23900701, 0.12289007, 0.52396995]])"
      ]
     },
     "execution_count": 13,
     "metadata": {},
     "output_type": "execute_result"
    }
   ],
   "source": [
    "# Generate a 2-d array of 4 rows, 3 columns of random float values between zero and one\n",
    "np.random.rand(4,3) # uniform distribution"
   ]
  },
  {
   "cell_type": "markdown",
   "metadata": {},
   "source": [
    "#### `randn` function\n",
    "Similar to the `rand` function, this returns an `ndarray` of float numbers in a given shape. However, the `randn` function draws these numbers from a **normal** distribution with a mean of zero. For this reason, negative values can occur."
   ]
  },
  {
   "cell_type": "code",
   "execution_count": 14,
   "metadata": {},
   "outputs": [
    {
     "data": {
      "text/plain": [
       "array([[-0.44546248,  0.86395401,  0.28272204],\n",
       "       [-0.40723411,  1.23001751,  0.19902365],\n",
       "       [-0.26541433,  0.1397877 , -1.07450147],\n",
       "       [-1.29254382,  2.24413221,  0.25454349]])"
      ]
     },
     "execution_count": 14,
     "metadata": {},
     "output_type": "execute_result"
    }
   ],
   "source": [
    "# Generate a 2-d array of 4 rows, 3 columns of random float values\n",
    "np.random.randn(4,3) # normal distribution"
   ]
  },
  {
   "cell_type": "markdown",
   "metadata": {},
   "source": [
    "#### `randint` function\n",
    "This function returns a random integer from a **uniform** distribution between two numbers (from the lowest up to, but excluding, the highest) and presents it in the shape dictated by the input."
   ]
  },
  {
   "cell_type": "code",
   "execution_count": 15,
   "metadata": {},
   "outputs": [
    {
     "data": {
      "text/plain": [
       "array([[5, 5, 8],\n",
       "       [9, 7, 4]])"
      ]
     },
     "execution_count": 15,
     "metadata": {},
     "output_type": "execute_result"
    }
   ],
   "source": [
    "# Generate a 2-d array of 2 rows, 3 columns of random integers between 2 and 10 (excluding)\n",
    "np.random.randint(2,10, size=(2,3))"
   ]
  },
  {
   "cell_type": "markdown",
   "metadata": {},
   "source": [
    "#### `random_integers` function\n",
    "This function is deprecated and replaced by the `randint` function above\n"
   ]
  },
  {
   "cell_type": "markdown",
   "metadata": {},
   "source": [
    "#### `random_sample` function\n",
    "Returns a random sample of floats between zero and one, not including one, from a **uniform** distribution."
   ]
  },
  {
   "cell_type": "code",
   "execution_count": 16,
   "metadata": {},
   "outputs": [
    {
     "data": {
      "text/plain": [
       "array([[0.92846195, 0.85612112, 0.88236598, 0.40243909],\n",
       "       [0.60680609, 0.87194131, 0.30615284, 0.43867665],\n",
       "       [0.8074284 , 0.7229255 , 0.11602979, 0.60407793]])"
      ]
     },
     "execution_count": 16,
     "metadata": {},
     "output_type": "execute_result"
    }
   ],
   "source": [
    "# Generate a 2-d array of 3 rows, 4 columns of random floats between zero and one (excluding)\n",
    "np.random.random_sample((3,4))"
   ]
  },
  {
   "cell_type": "markdown",
   "metadata": {},
   "source": [
    "#### `random`, `ranf` and `sample` functions\n",
    "These 3 functions are merely aliases for the `random_sample` function and [return the same object][1].\n",
    "\n",
    "[1]: https://stackoverflow.com/a/18829377"
   ]
  },
  {
   "cell_type": "markdown",
   "metadata": {},
   "source": [
    "#### `choice` function\n",
    "Returns a random sample from a *given* 1-d array. This is useful when one wishes to draw a random sample from a given data set to possibly test a machine learning algorithm, as in the following example:"
   ]
  },
  {
   "cell_type": "code",
   "execution_count": 17,
   "metadata": {},
   "outputs": [
    {
     "data": {
      "text/plain": [
       "array([8, 6, 2, 5, 3])"
      ]
     },
     "execution_count": 17,
     "metadata": {},
     "output_type": "execute_result"
    }
   ],
   "source": [
    "# Generate a 1d array of 5 random integers from zero up to, but not including, 10\n",
    "a = np.random.randint(10, size=5)\n",
    "a"
   ]
  },
  {
   "cell_type": "code",
   "execution_count": 18,
   "metadata": {},
   "outputs": [
    {
     "data": {
      "text/plain": [
       "array([5, 2, 8])"
      ]
     },
     "execution_count": 18,
     "metadata": {},
     "output_type": "execute_result"
    }
   ],
   "source": [
    "# Generate uniform random sample from random list above, i.e. each value has equal chance of being selected\n",
    "np.random.choice(a, 3)"
   ]
  },
  {
   "cell_type": "markdown",
   "metadata": {},
   "source": [
    "The `choice` function offers further functionality. One can also pre-specify the probability of each number being selected to create a non-uniform sampling probability, as follows:"
   ]
  },
  {
   "cell_type": "code",
   "execution_count": 19,
   "metadata": {},
   "outputs": [
    {
     "data": {
      "text/plain": [
       "array([8, 3, 6])"
      ]
     },
     "execution_count": 19,
     "metadata": {},
     "output_type": "execute_result"
    }
   ],
   "source": [
    "# Generate a random sample from a, with pre-specified probabilities (p) of selection\n",
    "np.random.choice(a, 3, p=[0.1, 0.4, 0.2, 0.1, 0.2])"
   ]
  },
  {
   "cell_type": "markdown",
   "metadata": {},
   "source": [
    "Another way to create a non-uniform sample is to *not* [replace a number][1] when it is removed from the list. The default setting for the function is to replace each number as it is selected, thereby ensuring equal probability of being selected again. By addig `replace=False`, one can create a non-uniform sample without pre-specified probabilities as above:\n",
    "\n",
    "[1]: https://www.sharpsightlabs.com/blog/numpy-random-choice/"
   ]
  },
  {
   "cell_type": "code",
   "execution_count": 20,
   "metadata": {},
   "outputs": [
    {
     "data": {
      "text/plain": [
       "array([6, 3, 5])"
      ]
     },
     "execution_count": 20,
     "metadata": {},
     "output_type": "execute_result"
    }
   ],
   "source": [
    "# Generate a non-uniform random sample\n",
    "np.random.choice(a, 3, replace=False)"
   ]
  },
  {
   "cell_type": "markdown",
   "metadata": {},
   "source": [
    "If no 1d-array is specified, the `choice` function will automatically generate an array of specified length, similar to the `np.arange()` function."
   ]
  },
  {
   "cell_type": "code",
   "execution_count": 28,
   "metadata": {},
   "outputs": [
    {
     "data": {
      "text/plain": [
       "array([0, 2])"
      ]
     },
     "execution_count": 28,
     "metadata": {},
     "output_type": "execute_result"
    }
   ],
   "source": [
    "# Generate a uniform random sample from 1-d array of range 5, size 2\n",
    "np.random.choice(5, 2)"
   ]
  },
  {
   "cell_type": "markdown",
   "metadata": {},
   "source": [
    "### Permutations\n",
    "NumPy offers two options for shuffling an array: the `shuffle` and the `permutation` function. Both shuffle an array, with one key [difference][1]: `permutation` returns a shuffled *copy* of the array, while `shuffle` shuffles the array *inplace*. This is an important distinction, as altering the primary data is not always advisable, and in these instances `permutation` is preferred. \n",
    "\n",
    "[1]: https://stackoverflow.com/a/15474335\n"
   ]
  },
  {
   "cell_type": "code",
   "execution_count": 22,
   "metadata": {},
   "outputs": [
    {
     "data": {
      "text/plain": [
       "array([0, 1, 2, 3, 4, 5, 6, 7, 8, 9])"
      ]
     },
     "execution_count": 22,
     "metadata": {},
     "output_type": "execute_result"
    }
   ],
   "source": [
    "# Create a 1d array of length 10\n",
    "arr = np.arange(10)\n",
    "arr"
   ]
  },
  {
   "cell_type": "code",
   "execution_count": 23,
   "metadata": {},
   "outputs": [
    {
     "data": {
      "text/plain": [
       "array([8, 2, 6, 0, 1, 4, 3, 5, 9, 7])"
      ]
     },
     "execution_count": 23,
     "metadata": {},
     "output_type": "execute_result"
    }
   ],
   "source": [
    "# Shuffle arr with shuffle function\n",
    "# Note how the contents of the original array variable are now changed\n",
    "np.random.shuffle(arr)\n",
    "arr"
   ]
  },
  {
   "cell_type": "code",
   "execution_count": 24,
   "metadata": {},
   "outputs": [
    {
     "data": {
      "text/plain": [
       "array([0, 1, 2, 3, 4, 5, 6, 7, 8, 9])"
      ]
     },
     "execution_count": 24,
     "metadata": {},
     "output_type": "execute_result"
    }
   ],
   "source": [
    "# Create a 1d array of length 10\n",
    "arr = np.arange(10)\n",
    "arr"
   ]
  },
  {
   "cell_type": "code",
   "execution_count": 25,
   "metadata": {},
   "outputs": [
    {
     "name": "stdout",
     "output_type": "stream",
     "text": [
      "[8 5 6 4 1 9 2 7 3 0]\n",
      "[0 1 2 3 4 5 6 7 8 9]\n"
     ]
    }
   ],
   "source": [
    "#  Shuffle arr using permutaiton function - note how original array is unchanged\n",
    "print(np.random.permutation(arr))\n",
    "print(arr)"
   ]
  },
  {
   "cell_type": "markdown",
   "metadata": {},
   "source": [
    "The second [distinction][1] is that permutation will return a shuffled range if passed an integer, while shuffle requires a pre-determined list or array, and will give an error if passed an integer.\n",
    "\n",
    "[1]: https://stackoverflow.com/a/15474335"
   ]
  },
  {
   "cell_type": "code",
   "execution_count": 26,
   "metadata": {},
   "outputs": [
    {
     "data": {
      "text/plain": [
       "array([6, 1, 7, 8, 0, 9, 2, 5, 4, 3])"
      ]
     },
     "execution_count": 26,
     "metadata": {},
     "output_type": "execute_result"
    }
   ],
   "source": [
    "# Inserting an integer into permutation function returns a shuffled range of length integer\n",
    "np.random.permutation(10)"
   ]
  },
  {
   "cell_type": "code",
   "execution_count": 27,
   "metadata": {},
   "outputs": [
    {
     "ename": "TypeError",
     "evalue": "object of type 'int' has no len()",
     "output_type": "error",
     "traceback": [
      "\u001b[0;31m---------------------------------------------------------------------------\u001b[0m",
      "\u001b[0;31mTypeError\u001b[0m                                 Traceback (most recent call last)",
      "\u001b[0;32m<ipython-input-27-65a7629e742b>\u001b[0m in \u001b[0;36m<module>\u001b[0;34m\u001b[0m\n\u001b[1;32m      1\u001b[0m \u001b[0;31m# Inserting an integer into shuffle function returns an error\u001b[0m\u001b[0;34m\u001b[0m\u001b[0;34m\u001b[0m\u001b[0;34m\u001b[0m\u001b[0m\n\u001b[0;32m----> 2\u001b[0;31m \u001b[0mnp\u001b[0m\u001b[0;34m.\u001b[0m\u001b[0mrandom\u001b[0m\u001b[0;34m.\u001b[0m\u001b[0mshuffle\u001b[0m\u001b[0;34m(\u001b[0m\u001b[0;36m10\u001b[0m\u001b[0;34m)\u001b[0m\u001b[0;34m\u001b[0m\u001b[0;34m\u001b[0m\u001b[0m\n\u001b[0m",
      "\u001b[0;32mmtrand.pyx\u001b[0m in \u001b[0;36mmtrand.RandomState.shuffle\u001b[0;34m()\u001b[0m\n",
      "\u001b[0;31mTypeError\u001b[0m: object of type 'int' has no len()"
     ]
    }
   ],
   "source": [
    "# Inserting an integer into shuffle function returns an error\n",
    "np.random.shuffle(10)"
   ]
  },
  {
   "cell_type": "markdown",
   "metadata": {},
   "source": [
    "### Distribution functions\n",
    "Similar to the simple random functions above, the distribution functions return a random sample of floats or integers, but from a specified probability distribution. Five of these functions and their probability distributions are discussed below."
   ]
  },
  {
   "cell_type": "markdown",
   "metadata": {},
   "source": [
    "#### `binomial` function\n",
    "This draws a random sample from a binomial distribution. A [binomial probability distribution][1] is used to summarise the likelihood (*P*) that a value will take one of two discrete, independent values (or 'success', *x*), given a set number of attempts (or trials, *n*), e.g. the likelihood of 10 heads if flipping a coin 10 times. As with most probability distributions, several assumptions are present:\n",
    "1. There is only one possible outcome (heads or tails)\n",
    "2. Each attempt at an outcome has an equal probability of success\n",
    "3. The results of one attempt do not influence the results of another\n",
    "The binomial probability can be [used][2] to determine the probability of a discrete event occuring. Continuing with the coin example above, say we wanted to determine how many times heads would appear if we flipped the same coin 30 times.\n",
    "\n",
    "[1]: https://www.investopedia.com/terms/b/binomialdistribution.asp\n",
    "[2]: https://stattrek.com/probability-distributions/binomial.aspx"
   ]
  },
  {
   "cell_type": "code",
   "execution_count": 34,
   "metadata": {},
   "outputs": [
    {
     "data": {
      "text/plain": [
       "'The number of times heads will appear if flipping a coin 30 times is 15'"
      ]
     },
     "execution_count": 34,
     "metadata": {},
     "output_type": "execute_result"
    }
   ],
   "source": [
    "# Number of trials (n) = 30\n",
    "# Probability of success (P) = 0.5\n",
    "# Generate random sample of successes from binomial distribution\n",
    "s = np.random.binomial(30, 0.5)\n",
    "f\"The number of times heads will appear if flipping a coin 30 times is {s}\""
   ]
  },
  {
   "cell_type": "markdown",
   "metadata": {},
   "source": [
    "`binomial` function also allows testing the same trial a certain amount of times. For example, we could run the same trial above 10 times and return an array of the number of successes each time the trial ran"
   ]
  },
  {
   "cell_type": "code",
   "execution_count": 44,
   "metadata": {},
   "outputs": [
    {
     "data": {
      "text/plain": [
       "'The number of times heads will appear in 10 consective attemptes if flipping a coin 30 times each attempt is [16 14 20 16 17 15 17 13 13 14]'"
      ]
     },
     "execution_count": 44,
     "metadata": {},
     "output_type": "execute_result"
    }
   ],
   "source": [
    "# Number of trials (n) = 30\n",
    "# Probability of success (P) = 0.5\n",
    "# Number of times trial attempted = 10\n",
    "# Generate random sample of successes from binomial distribution\n",
    "s = np.random.binomial(30, 0.5, 10)\n",
    "f\"The number of times heads will appear in 10 consective attemptes if flipping a coin 30 times each attempt is {s}\""
   ]
  },
  {
   "cell_type": "markdown",
   "metadata": {},
   "source": [
    "A quick test of the mean of this array reveals that the probability remains 0.5 (50% of flips should be heads)."
   ]
  },
  {
   "cell_type": "code",
   "execution_count": 45,
   "metadata": {},
   "outputs": [
    {
     "data": {
      "text/plain": [
       "15.5"
      ]
     },
     "execution_count": 45,
     "metadata": {},
     "output_type": "execute_result"
    }
   ],
   "source": [
    "# Calculate mean of array, i.e. average heads per each attempt out of 30 flips\n",
    "s.mean()"
   ]
  },
  {
   "cell_type": "markdown",
   "metadata": {},
   "source": [
    "Below is a graphical representation of a binomial distribution of running the above trial (number of heads when flipping a coin 30 times) performed 1,000 times:"
   ]
  },
  {
   "cell_type": "code",
   "execution_count": 69,
   "metadata": {},
   "outputs": [
    {
     "name": "stdout",
     "output_type": "stream",
     "text": [
      "15.159\n"
     ]
    },
    {
     "data": {
      "image/png": "[encoded data removed]",
      "text/plain": [
       "<Figure size 432x288 with 1 Axes>"
      ]
     },
     "metadata": {
      "needs_background": "light"
     },
     "output_type": "display_data"
    }
   ],
   "source": [
    "# Number of trials (n) = 30\n",
    "# Probability of success (P) = 0.5\n",
    "# Number of times trial attempted = 1,000\n",
    "# Generate random sample of successes from binomial distribution\n",
    "s = np.random.binomial(30, 0.5, 1000)\n",
    "\n",
    "# Display plot\n",
    "sns.distplot(s)\n",
    "\n",
    "# Display mean number of heads per trial\n",
    "print(s.mean())\n"
   ]
  },
  {
   "cell_type": "markdown",
   "metadata": {},
   "source": [
    "Changing the probability of an event occuring will change the resulting shape of the plot"
   ]
  },
  {
   "cell_type": "code",
   "execution_count": 70,
   "metadata": {},
   "outputs": [
    {
     "name": "stdout",
     "output_type": "stream",
     "text": [
      "2.9\n"
     ]
    },
    {
     "data": {
      "image/png": "[encoded data removed]",
      "text/plain": [
       "<Figure size 432x288 with 1 Axes>"
      ]
     },
     "metadata": {
      "needs_background": "light"
     },
     "output_type": "display_data"
    }
   ],
   "source": [
    "# Change probability of heads occuring to 10% (casino is using weighted dice)\n",
    "s = np.random.binomial(30, 0.1, 1000)\n",
    "\n",
    "# Display plot\n",
    "sns.distplot(s, bins=1000)\n",
    "\n",
    "# Display mean\n",
    "print(s.mean())"
   ]
  },
  {
   "cell_type": "markdown",
   "metadata": {},
   "source": [
    "## In-text Reference Links\n",
    "* https://realpython.com/python-modules-packages/\n",
    "* https://www.quora.com/What-is-the-difference-between-a-python-module-package-And-when-to-use-which-one\n",
    "* https://docs.python.org/3.7/tutorial/modules.html\n",
    "* https://www.techwalla.com/articles/the-advantages-of-modularization-in-programming\n",
    "* https://files.realpython.com/media/pkg1.9af1c7aea48f.png\n",
    "* https://stackoverflow.com/a/7948672\n",
    "* https://numpy.org/\n",
    "* https://docs.scipy.org/doc/numpy-1.15.0/reference/routines.random.html\n",
    "* https://docs.scipy.org/doc/numpy/reference/random/index.html\n",
    "* https://www.random.org/randomness/\n",
    "* https://docs.scipy.org/doc/numpy-1.15.0/reference/generated/numpy.random.random_integers.html#numpy.random.random_integers\n",
    "* https://www.investopedia.com/terms/u/uniform-distribution.asp\n",
    "* https://www.investopedia.com/terms/n/normaldistribution.asp\n",
    "* https://www.statisticshowto.datasciencecentral.com/probability-and-statistics/normal-distributions/\n",
    "* https://stackoverflow.com/a/18829377\n",
    "* https://www.sharpsightlabs.com/blog/numpy-random-choice/\n",
    "* https://www.investopedia.com/terms/b/binomialdistribution.asp\n",
    "* https://stattrek.com/probability-distributions/binomial.aspx"
   ]
  }
 ],
 "metadata": {
  "kernelspec": {
   "display_name": "Python 3",
   "language": "python",
   "name": "python3"
  },
  "language_info": {
   "codemirror_mode": {
    "name": "ipython",
    "version": 3
   },
   "file_extension": ".py",
   "mimetype": "text/x-python",
   "name": "python",
   "nbconvert_exporter": "python",
   "pygments_lexer": "ipython3",
   "version": "3.7.1"
  }
 },
 "nbformat": 4,
 "nbformat_minor": 2
}
